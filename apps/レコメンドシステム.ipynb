{
 "cells": [
  {
   "cell_type": "markdown",
   "metadata": {},
   "source": [
    "# レコメンドシステム"
   ]
  },
  {
   "cell_type": "code",
   "execution_count": 1,
   "metadata": {},
   "outputs": [],
   "source": [
    "import pandas as pd\n",
    "import numpy as np\n",
    "import sys\n",
    "import matplotlib.pyplot as plt\n",
    "import scipy.spatial as sp\n",
    "import scipy.sparse as sparse\n",
    "from sklearn.decomposition import NMF, TruncatedSVD"
   ]
  },
  {
   "cell_type": "code",
   "execution_count": 2,
   "metadata": {},
   "outputs": [],
   "source": [
    "# ジャッカード係数\n",
    "def get_jaccard_similarity(x, y):\n",
    "    return 1 - sp.distance.jaccard(x, y)"
   ]
  },
  {
   "cell_type": "code",
   "execution_count": null,
   "metadata": {},
   "outputs": [],
   "source": [
    "def read_data():\n",
    "    global topN\n",
    "    topN = 20\n",
    "    global data\n",
    "    data  = pd.read_csv('user_data.csv', encoding='utf8')\n",
    "    data.drop_duplicates(keep='last', inplace=True)\n",
    "    data.head()"
   ]
  },
  {
   "cell_type": "code",
   "execution_count": null,
   "metadata": {},
   "outputs": [],
   "source": [
    "def rating():\n",
    "    # 0/1になるため1.0を代入\n",
    "    data['rating'] = 1.0\n",
    "    global rating_matrix\n",
    "    rating_matrix= data.pivot(index='user_id', columns='topic_name', values='rating')\n",
    "    rating_matrix.fillna(0, inplace=True)\n",
    "    global topic_list\n",
    "    topic_list = np.array(rating_matrix.columns)\n",
    "    user_list = np.array(rating_matrix.index)\n",
    "    global rating_matrix_ar\n",
    "\n",
    "    rating_matrix_ar= np.array(rating_matrix)"
   ]
  },
  {
   "cell_type": "code",
   "execution_count": null,
   "metadata": {},
   "outputs": [],
   "source": [
    "def user_already_follow():\n",
    "    if sys.argv[1:]:\n",
    "        user_id = sys.argv[1:][0]\n",
    "    else:\n",
    "        print(\"usage: python recommend.py user_id\")\n",
    "        print(\"sample command: python recommend.py 2\")\n",
    "        sys.exit()\n",
    "\n",
    "    global already_followed_topic\n",
    "    already_followed_topic= np.array(data[data['user_id'] == int(user_id)]['topic_name'])\n",
    "    print(\"登録済みのテーマ:\".join(map(str, already_followed_topic)))"
   ]
  },
  {
   "cell_type": "code",
   "execution_count": null,
   "metadata": {},
   "outputs": [],
   "source": [
    "def user_similarity_rating():\n",
    "    user_similarity = []\n",
    "    target_user_row = rating_matrix_ar[0]\n",
    "    for row in rating_matrix_ar:\n",
    "        sim = get_jaccard_similarity(target_user_row, row)\n",
    "        user_similarity.append(sim)\n",
    "\n",
    "    user_similarity = np.array(user_similarity)\n",
    "    idx = user_similarity.argsort()[::-1][1:topN+1]\n",
    "    global selected_user_similarity\n",
    "    selected_user_similarity= user_similarity[idx]\n",
    "    global selected_rating\n",
    "    selected_rating= rating_matrix_ar[idx]"
   ]
  },
  {
   "cell_type": "code",
   "execution_count": null,
   "metadata": {},
   "outputs": [],
   "source": [
    "def average_similarity_score():\n",
    "    # 平均類似度を計算\n",
    "    global avg_score\n",
    "    avg_score = []\n",
    "\n",
    "    for col_idx in range(selected_rating.shape[1]):\n",
    "        weight_score = sum(selected_rating[:, col_idx] * selected_user_similarity)\n",
    "        similarity_sum =sum(selected_user_similarity[selected_user_similarity > 0])\n",
    "        avg_score.append(weight_score / similarity_sum)\n",
    "    avg_score = np.array(avg_score)"
   ]
  },
  {
   "cell_type": "code",
   "execution_count": null,
   "metadata": {},
   "outputs": [],
   "source": [
    "def user_recommend_topic():\n",
    "    # 平均類似度の高い上位3テーマを表示\n",
    "    recommend_num = 3\n",
    "    counter = 0\n",
    "\n",
    "    print(\"あなたへのオススメ\")\n",
    "    for recommended_topic in topic_list[avg_score.argsort()[::-1]]:\n",
    "        if recommended_topic not in already_followed_topic:\n",
    "            print(recommended_topic)\n",
    "            counter += 1\n",
    "        if recommend_num <= counter:\n",
    "            break"
   ]
  },
  {
   "cell_type": "code",
   "execution_count": null,
   "metadata": {},
   "outputs": [],
   "source": [
    "def run():\n",
    "    read_data()\n",
    "    rating()\n",
    "    user_already_follow()\n",
    "    user_similarity_rating()\n",
    "    average_similarity_score()\n",
    "    user_recommend_topic()\n",
    "\n",
    "if __name__ == '__main__':\n",
    "    run()"
   ]
  },
  {
   "cell_type": "code",
   "execution_count": null,
   "metadata": {},
   "outputs": [],
   "source": []
  },
  {
   "cell_type": "code",
   "execution_count": null,
   "metadata": {},
   "outputs": [],
   "source": []
  },
  {
   "cell_type": "code",
   "execution_count": null,
   "metadata": {},
   "outputs": [],
   "source": []
  },
  {
   "cell_type": "code",
   "execution_count": null,
   "metadata": {},
   "outputs": [],
   "source": []
  },
  {
   "cell_type": "code",
   "execution_count": null,
   "metadata": {},
   "outputs": [],
   "source": []
  },
  {
   "cell_type": "code",
   "execution_count": null,
   "metadata": {},
   "outputs": [],
   "source": []
  }
 ],
 "metadata": {
  "kernelspec": {
   "display_name": "Python 3",
   "language": "python",
   "name": "python3"
  },
  "language_info": {
   "codemirror_mode": {
    "name": "ipython",
    "version": 3
   },
   "file_extension": ".py",
   "mimetype": "text/x-python",
   "name": "python",
   "nbconvert_exporter": "python",
   "pygments_lexer": "ipython3",
   "version": "3.7.4"
  }
 },
 "nbformat": 4,
 "nbformat_minor": 4
}
