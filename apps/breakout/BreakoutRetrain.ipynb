{
 "cells": [
  {
   "cell_type": "markdown",
   "metadata": {},
   "source": [
    "## 必要なライブラリのインポート"
   ]
  },
  {
   "cell_type": "code",
   "execution_count": 1,
   "metadata": {},
   "outputs": [],
   "source": [
    "import chainer\n",
    "import chainer.functions as F\n",
    "import chainer.links as L\n",
    "import chainerrl\n",
    "import gym\n",
    "import numpy as np"
   ]
  },
  {
   "cell_type": "code",
   "execution_count": 2,
   "metadata": {},
   "outputs": [],
   "source": [
    "from scipy import misc\n",
    "import matplotlib.pyplot as plt\n",
    "%matplotlib inline\n",
    "import time"
   ]
  },
  {
   "cell_type": "markdown",
   "metadata": {},
   "source": [
    "## ゲーム環境の作成と確認"
   ]
  },
  {
   "cell_type": "code",
   "execution_count": 3,
   "metadata": {},
   "outputs": [],
   "source": [
    "env = gym.make('Breakout-v0')"
   ]
  },
  {
   "cell_type": "code",
   "execution_count": 4,
   "metadata": {},
   "outputs": [
    {
     "name": "stdout",
     "output_type": "stream",
     "text": [
      "observation space: Box(210, 160, 3)\n",
      "action space: Discrete(4)\n"
     ]
    },
    {
     "name": "stderr",
     "output_type": "stream",
     "text": [
      "C:\\Users\\haruk\\Anaconda3\\envs\\ai-gpu\\Lib\\site-packages\\ipykernel_launcher.py:7: DeprecationWarning: `imresize` is deprecated!\n",
      "`imresize` is deprecated in SciPy 1.0.0, and will be removed in 1.2.0.\n",
      "Use ``skimage.transform.resize`` instead.\n",
      "  import sys\n"
     ]
    }
   ],
   "source": [
    "env.frameskip = 4 # ゲーム環境で飛ばすフレーム数の指定\n",
    "print('observation space:', env.observation_space) # 状態空間の確認\n",
    "print('action space:', env.action_space) # ゲーム内で可能な行動選択の数\n",
    "\n",
    "obs = env.reset() # ゲーム環境の初期化\n",
    "obs = obs[:,:,0] # RGBのR要素のみを取り出し\n",
    "obs = (misc.imresize(obs, (110, 84)))[110-84-8:110-8,:] # ゲームから取得した画面情報のリサイズ"
   ]
  },
  {
   "cell_type": "code",
   "execution_count": 5,
   "metadata": {
    "scrolled": true
   },
   "outputs": [
    {
     "name": "stdout",
     "output_type": "stream",
     "text": [
      "1\n",
      "reward: 0.0\n",
      "done: False\n",
      "info {'ale.lives': 5}\n"
     ]
    },
    {
     "data": {
      "image/png": "[encoded data removed]",
      "text/plain": [
       "<Figure size 432x288 with 1 Axes>"
      ]
     },
     "metadata": {
      "needs_background": "light"
     },
     "output_type": "display_data"
    },
    {
     "data": {
      "image/png": "[encoded data removed]",
      "text/plain": [
       "<Figure size 432x288 with 1 Axes>"
      ]
     },
     "metadata": {
      "needs_background": "light"
     },
     "output_type": "display_data"
    }
   ],
   "source": [
    "plt.imshow(obs, cmap='gray') # リサイズ後のゲーム画面の確認\n",
    "action = env.action_space.sample() # ゲーム内での行動のサンプルをランダムに選択\n",
    "print(action)\n",
    "obs, r, done, info = env.step(action) # 行動を引数にstep関数を呼び出し、ゲームの状態をt+1の状態に遷移\n",
    "# 戻り値に行動実行後のゲーム画面、報酬値、ゲームの終了判定、付加情報(学習には使用しない)。\n",
    "plt.figure()\n",
    "plt.imshow(obs)\n",
    "print('reward:', r)\n",
    "print('done:', done)\n",
    "print('info', info)\n",
    "# step関数の戻り値の確認"
   ]
  },
  {
   "cell_type": "markdown",
   "metadata": {},
   "source": [
    "## Q関数の定義"
   ]
  },
  {
   "cell_type": "code",
   "execution_count": 6,
   "metadata": {},
   "outputs": [],
   "source": [
    "class QFunction(chainer.Chain):\n",
    "    \n",
    "    def __init__(self, n_actions): # ネットワークの構造の定義\n",
    "        super().__init__(\n",
    "            L0=L.Convolution2D(4 , 32, ksize=8, stride=4),# 畳み込み層が3層\n",
    "            L1=L.Convolution2D(32, 64, ksize=4, stride=2),\n",
    "            L2=L.Convolution2D(64, 64, ksize=3, stride=1),\n",
    "            L3=L.Linear(3136, 512),\n",
    "            L4=L.Linear(512, n_actions)) # 出力の数は引数で渡された選択可能な行動の数\n",
    "        \n",
    "    def __call__(self, x, test=False):\n",
    "        h = F.relu(self.L0(x))\n",
    "        h = F.relu(self.L1(h))\n",
    "        h = F.relu(self.L2(h))\n",
    "        h = F.relu(self.L3(h))\n",
    "        return chainerrl.action_value.DiscreteActionValue(self.L4(h))\n",
    "    \n",
    "n_actions = env.action_space.n # 選択可能な行動の数をn_actionsに代入\n",
    "q_func = QFunction(n_actions) # q関数の初期化"
   ]
  },
  {
   "cell_type": "markdown",
   "metadata": {},
   "source": [
    "## ネットワーク(Q関数)の最適化手法の選択"
   ]
  },
  {
   "cell_type": "code",
   "execution_count": 7,
   "metadata": {},
   "outputs": [
    {
     "data": {
      "text/plain": [
       "<chainer.optimizers.adam.Adam at 0x182ddc81248>"
      ]
     },
     "execution_count": 7,
     "metadata": {},
     "output_type": "execute_result"
    }
   ],
   "source": [
    "optimizer = chainer.optimizers.Adam(eps=1e-2) # 最適化手法にAdamを選択\n",
    "optimizer.setup(q_func) # optimizerにQ関数をセット"
   ]
  },
  {
   "cell_type": "markdown",
   "metadata": {},
   "source": [
    "## 各種パラメータの設定"
   ]
  },
  {
   "cell_type": "code",
   "execution_count": 8,
   "metadata": {},
   "outputs": [],
   "source": [
    "gamma = 0.95 # 学習率\n",
    "\n",
    "explorer = chainerrl.explorers.ConstantEpsilonGreedy(\n",
    "    epsilon=0.3, random_action_func=env.action_space.sample, ) # 探索手法の選択(ε-greedy法)\n",
    "\n",
    "replay_buffer = chainerrl.replay_buffer.ReplayBuffer(capacity=10 ** 4) # replayBufferのサイズの設定(過去の1000経験を保持) 家のパソコンでメモリ使用量約1.6GB\n",
    "\n",
    "phi = lambda x: x.astype(np.float32, copy=False) # np.float32形式ではないデータが発生したときにデータ形式を修正する関数\n",
    "\n",
    "agent = chainerrl.agents.DQN(\n",
    "        q_func, optimizer, replay_buffer, gamma, explorer,\n",
    "        replay_start_size=500, update_interval=1,\n",
    "        target_update_interval=100, phi=phi) # DQNのエージェントに各種パラメータを引数で渡して初期化"
   ]
  },
  {
   "cell_type": "markdown",
   "metadata": {},
   "source": [
    "## 実際に学習を行う部分"
   ]
  },
  {
   "cell_type": "code",
   "execution_count": 9,
   "metadata": {
    "scrolled": true
   },
   "outputs": [
    {
     "name": "stderr",
     "output_type": "stream",
     "text": [
      "C:\\Users\\haruk\\Anaconda3\\envs\\ai-gpu\\Lib\\site-packages\\chainerrl\\agent.py:26: UserWarning: KeyError('L0/W/t is not a file in the archive')\n",
      "  warnings.warn(repr(e))\n",
      "C:\\Users\\haruk\\Anaconda3\\envs\\ai-gpu\\Lib\\site-packages\\ipykernel_launcher.py:10: DeprecationWarning: `imresize` is deprecated!\n",
      "`imresize` is deprecated in SciPy 1.0.0, and will be removed in 1.2.0.\n",
      "Use ``skimage.transform.resize`` instead.\n",
      "  # Remove the CWD from sys.path while we load stuff.\n",
      "C:\\Users\\haruk\\Anaconda3\\envs\\ai-gpu\\Lib\\site-packages\\ipykernel_launcher.py:21: DeprecationWarning: `imresize` is deprecated!\n",
      "`imresize` is deprecated in SciPy 1.0.0, and will be removed in 1.2.0.\n",
      "Use ``skimage.transform.resize`` instead.\n"
     ]
    },
    {
     "name": "stdout",
     "output_type": "stream",
     "text": [
      "episode: 181 R: 2.0\n",
      "time: 1.3154826164245605\n",
      "episode: 182 R: 3.0\n",
      "time: 23.20751667022705\n",
      "episode: 183 R: 2.0\n",
      "time: 77.5974473953247\n",
      "episode: 184 R: 2.0\n",
      "time: 147.6998372077942\n",
      "episode: 185 R: 6.0\n",
      "time: 261.5396499633789\n",
      "episode: 186 R: 1.0\n",
      "time: 312.16890144348145\n",
      "episode: 187 R: 3.0\n",
      "time: 378.6099238395691\n",
      "episode: 188 R: 2.0\n",
      "time: 435.2944498062134\n",
      "episode: 189 R: 3.0\n",
      "time: 508.4560647010803\n",
      "episode: 190 R: 1.0\n",
      "time: 557.2726347446442\n",
      "episode: 191 R: 4.0\n",
      "time: 633.4199366569519\n",
      "episode: 192 R: 2.0\n",
      "time: 684.952573299408\n",
      "episode: 193 R: 2.0\n",
      "time: 738.3103792667389\n",
      "episode: 194 R: 1.0\n",
      "time: 780.6840057373047\n",
      "episode: 195 R: 5.0\n",
      "time: 869.3667087554932\n",
      "episode: 196 R: 3.0\n",
      "time: 927.4983131885529\n",
      "episode: 197 R: 2.0\n",
      "time: 982.9416975975037\n",
      "episode: 198 R: 4.0\n",
      "time: 1053.1555783748627\n",
      "episode: 199 R: 3.0\n",
      "time: 1112.608248949051\n",
      "episode: 200 R: 3.0\n",
      "time: 1187.765459060669\n",
      "Finished\n"
     ]
    }
   ],
   "source": [
    "agent.load('Breakout180') # 学習済みモデルの読み込み\n",
    "\n",
    "n_episodes = 20 # 学習するゲーム数の設定\n",
    "start = time.time() # 学習の開始時刻の記録\n",
    "# n_episodes回学習を回す\n",
    "for i in range(181, n_episodes + 181):\n",
    "    obs4steps = np.zeros((4,84,84), dtype=np.float32)\n",
    "    obs = env.reset()\n",
    "    obs = obs[:,:,0]\n",
    "    obs = (misc.imresize(obs, (110, 84)))[110-84-8:110-8,:]\n",
    "    obs4steps[0] = obs # 4時刻分のゲーム画像に代入\n",
    "    reward = 0 # 報酬値の初期化\n",
    "    done = False # ゲームの終了判定の初期化\n",
    "    R = 0 # 報酬値の合計の初期化\n",
    "    t = 0 # ゲーム内時刻の初期化\n",
    "    # ゲームが終了するまでループ\n",
    "    while not done:\n",
    "        action = agent.act_and_train(obs4steps, reward)\n",
    "        obs, reward, done, _ = env.step(action)\n",
    "        obs = obs[:,:,0]\n",
    "        obs = (misc.imresize(obs, (110, 84)))[110-84-8:110-8,:]\n",
    "        obs4steps = np.roll(obs4steps, 1, axis=0) # 4時刻分のゲーム画像を1時刻ずつずらす\n",
    "        obs4steps[0] = obs # ずらした結果、一番古いゲーム画面が[0]に入っているので、新しいゲーム画面で上書き\n",
    "        R += reward # 報酬値の合計を更新\n",
    "        t += 1 # 時刻を更新\n",
    "    # ゲーム数とスコア合計、経過時刻の確認\n",
    "    print('episode:', i,\n",
    "          'R:', R)\n",
    "    print('time:', time.time() - start)\n",
    "    agent.stop_episode_and_train(obs4steps, reward, done)\n",
    "print('Finished')"
   ]
  },
  {
   "cell_type": "markdown",
   "metadata": {},
   "source": [
    "## 学習結果の保存"
   ]
  },
  {
   "cell_type": "code",
   "execution_count": 11,
   "metadata": {},
   "outputs": [],
   "source": [
    "agent.save('Breakout200')"
   ]
  },
  {
   "cell_type": "markdown",
   "metadata": {},
   "source": [
    "## 学習結果の読み出しと確認"
   ]
  },
  {
   "cell_type": "markdown",
   "metadata": {},
   "source": [
    "### 学習開始直後の挙動確認"
   ]
  },
  {
   "cell_type": "code",
   "execution_count": 12,
   "metadata": {
    "scrolled": true
   },
   "outputs": [
    {
     "name": "stderr",
     "output_type": "stream",
     "text": [
      "C:\\Users\\haruk\\Anaconda3\\envs\\ai-gpu\\Lib\\site-packages\\ipykernel_launcher.py:7: DeprecationWarning: `imresize` is deprecated!\n",
      "`imresize` is deprecated in SciPy 1.0.0, and will be removed in 1.2.0.\n",
      "Use ``skimage.transform.resize`` instead.\n",
      "  import sys\n",
      "C:\\Users\\haruk\\Anaconda3\\envs\\ai-gpu\\Lib\\site-packages\\ipykernel_launcher.py:18: DeprecationWarning: `imresize` is deprecated!\n",
      "`imresize` is deprecated in SciPy 1.0.0, and will be removed in 1.2.0.\n",
      "Use ``skimage.transform.resize`` instead.\n"
     ]
    },
    {
     "name": "stdout",
     "output_type": "stream",
     "text": [
      "test episode: 0 R: 0.0\n",
      "test episode: 1 R: 0.0\n",
      "test episode: 2 R: 3.0\n",
      "test episode: 3 R: 0.0\n",
      "test episode: 4 R: 1.0\n",
      "test episode: 5 R: 1.0\n",
      "test episode: 6 R: 0.0\n",
      "test episode: 7 R: 0.0\n",
      "test episode: 8 R: 0.0\n",
      "test episode: 9 R: 0.0\n",
      "test episode: 10 R: 1.0\n",
      "test episode: 11 R: 1.0\n",
      "test episode: 12 R: 2.0\n",
      "test episode: 13 R: 0.0\n",
      "test episode: 14 R: 0.0\n",
      "test episode: 15 R: 0.0\n",
      "test episode: 16 R: 0.0\n",
      "test episode: 17 R: 1.0\n",
      "test episode: 18 R: 0.0\n",
      "test episode: 19 R: 0.0\n",
      "test episode: 20 R: 0.0\n",
      "test episode: 21 R: 0.0\n",
      "test episode: 22 R: 1.0\n",
      "test episode: 23 R: 1.0\n",
      "test episode: 24 R: 1.0\n",
      "test episode: 25 R: 0.0\n",
      "test episode: 26 R: 0.0\n",
      "test episode: 27 R: 0.0\n",
      "test episode: 28 R: 0.0\n",
      "test episode: 29 R: 0.0\n",
      "test episode: 30 R: 0.0\n",
      "test episode: 31 R: 0.0\n",
      "test episode: 32 R: 1.0\n",
      "test episode: 33 R: 2.0\n",
      "test episode: 34 R: 0.0\n",
      "test episode: 35 R: 0.0\n",
      "test episode: 36 R: 0.0\n",
      "test episode: 37 R: 0.0\n",
      "test episode: 38 R: 1.0\n",
      "test episode: 39 R: 2.0\n",
      "test episode: 40 R: 1.0\n",
      "test episode: 41 R: 5.0\n",
      "test episode: 42 R: 0.0\n",
      "test episode: 43 R: 0.0\n",
      "test episode: 44 R: 1.0\n",
      "test episode: 45 R: 0.0\n",
      "test episode: 46 R: 1.0\n",
      "test episode: 47 R: 0.0\n",
      "test episode: 48 R: 2.0\n",
      "test episode: 49 R: 0.0\n"
     ]
    }
   ],
   "source": [
    "score50 = [0 for i in range(50)] # 報酬値の合計を保持する\n",
    "agent.load('Breakout50')\n",
    "for i in range(50):\n",
    "    obs4steps = np.zeros((4,84,84))\n",
    "    obs = env.reset()\n",
    "    obs = obs[:,:,0]\n",
    "    obs = (misc.imresize(obs, (110,84)))[110-84-8:110-8, :]\n",
    "    obs4steps[0] = obs\n",
    "    done = False\n",
    "    R = 0\n",
    "    t = 0\n",
    "    while not done:\n",
    "        # env.render()のコメントを外す('ctrl'+'/')とテストプレイが別ウインドウで確認できる\n",
    "#         env.render()\n",
    "        action = agent.act(obs4steps)\n",
    "        obs, r, done, _ = env.step(action)\n",
    "        obs = obs[:,:,0]\n",
    "        obs = (misc.imresize(obs, (110,84)))[110-84-8:110-8, :]\n",
    "        obs4steps = np.roll(obs4steps, 1, axis=0)\n",
    "        obs4steps[0] = obs\n",
    "        R += r\n",
    "        t += 1\n",
    "        # ボールを降らす操作が学習できていないとき段階で固まらないための対策\n",
    "        if np.allclose(obs4steps[0], obs4steps[3]):\n",
    "            env.step(1)\n",
    "    \n",
    "    score50[i] = R # 報酬値合計の記録\n",
    "    print('test episode:', i, 'R:', R)"
   ]
  },
  {
   "cell_type": "code",
   "execution_count": 13,
   "metadata": {},
   "outputs": [
    {
     "name": "stdout",
     "output_type": "stream",
     "text": [
      "0.58\n"
     ]
    }
   ],
   "source": [
    "print(np.mean(score50))"
   ]
  },
  {
   "cell_type": "markdown",
   "metadata": {},
   "source": [
    "### 学習前モデルのスコア平均"
   ]
  },
  {
   "cell_type": "code",
   "execution_count": 14,
   "metadata": {
    "scrolled": true
   },
   "outputs": [
    {
     "name": "stderr",
     "output_type": "stream",
     "text": [
      "C:\\Users\\haruk\\Anaconda3\\envs\\ai-gpu\\Lib\\site-packages\\ipykernel_launcher.py:7: DeprecationWarning: `imresize` is deprecated!\n",
      "`imresize` is deprecated in SciPy 1.0.0, and will be removed in 1.2.0.\n",
      "Use ``skimage.transform.resize`` instead.\n",
      "  import sys\n",
      "C:\\Users\\haruk\\Anaconda3\\envs\\ai-gpu\\Lib\\site-packages\\ipykernel_launcher.py:17: DeprecationWarning: `imresize` is deprecated!\n",
      "`imresize` is deprecated in SciPy 1.0.0, and will be removed in 1.2.0.\n",
      "Use ``skimage.transform.resize`` instead.\n"
     ]
    },
    {
     "name": "stdout",
     "output_type": "stream",
     "text": [
      "test episode: 0 R: 3.0\n",
      "test episode: 1 R: 1.0\n",
      "test episode: 2 R: 1.0\n",
      "test episode: 3 R: 1.0\n",
      "test episode: 4 R: 4.0\n",
      "test episode: 5 R: 2.0\n",
      "test episode: 6 R: 1.0\n",
      "test episode: 7 R: 0.0\n",
      "test episode: 8 R: 1.0\n",
      "test episode: 9 R: 3.0\n",
      "test episode: 10 R: 3.0\n",
      "test episode: 11 R: 4.0\n",
      "test episode: 12 R: 1.0\n",
      "test episode: 13 R: 5.0\n",
      "test episode: 14 R: 3.0\n",
      "test episode: 15 R: 4.0\n",
      "test episode: 16 R: 1.0\n",
      "test episode: 17 R: 3.0\n",
      "test episode: 18 R: 3.0\n",
      "test episode: 19 R: 3.0\n",
      "test episode: 20 R: 4.0\n",
      "test episode: 21 R: 2.0\n",
      "test episode: 22 R: 7.0\n",
      "test episode: 23 R: 2.0\n",
      "test episode: 24 R: 1.0\n",
      "test episode: 25 R: 0.0\n",
      "test episode: 26 R: 3.0\n",
      "test episode: 27 R: 0.0\n",
      "test episode: 28 R: 1.0\n",
      "test episode: 29 R: 0.0\n",
      "test episode: 30 R: 5.0\n",
      "test episode: 31 R: 3.0\n",
      "test episode: 32 R: 1.0\n",
      "test episode: 33 R: 3.0\n",
      "test episode: 34 R: 3.0\n",
      "test episode: 35 R: 1.0\n",
      "test episode: 36 R: 0.0\n",
      "test episode: 37 R: 3.0\n",
      "test episode: 38 R: 1.0\n",
      "test episode: 39 R: 5.0\n",
      "test episode: 40 R: 5.0\n",
      "test episode: 41 R: 6.0\n",
      "test episode: 42 R: 2.0\n",
      "test episode: 43 R: 6.0\n",
      "test episode: 44 R: 2.0\n",
      "test episode: 45 R: 3.0\n",
      "test episode: 46 R: 5.0\n",
      "test episode: 47 R: 2.0\n",
      "test episode: 48 R: 0.0\n",
      "test episode: 49 R: 3.0\n"
     ]
    }
   ],
   "source": [
    "score180 = [0 for i in range(50)]\n",
    "agent.load('Breakout180')\n",
    "for i in range(50):\n",
    "    obs4steps = np.zeros((4,84,84))\n",
    "    obs = env.reset()\n",
    "    obs = obs[:,:,0]\n",
    "    obs = (misc.imresize(obs, (110,84)))[110-84-8:110-8, :]\n",
    "    obs4steps[0] = obs\n",
    "    done = False\n",
    "    R = 0\n",
    "    t = 0\n",
    "    while not done:\n",
    "#         env.render()\n",
    "        action = agent.act(obs4steps)\n",
    "        obs, r, done, _ = env.step(action)\n",
    "        obs = obs[:,:,0]\n",
    "        obs = (misc.imresize(obs, (110,84)))[110-84-8:110-8, :]\n",
    "        obs4steps = np.roll(obs4steps, 1, axis=0)\n",
    "        obs4steps[0] = obs\n",
    "        R += r\n",
    "        t += 1\n",
    "        if np.allclose(obs4steps[0], obs4steps[3]):\n",
    "            env.step(1)\n",
    "    \n",
    "    score180[i] = R\n",
    "    print('test episode:', i, 'R:', R)"
   ]
  },
  {
   "cell_type": "code",
   "execution_count": 15,
   "metadata": {},
   "outputs": [
    {
     "name": "stdout",
     "output_type": "stream",
     "text": [
      "2.52\n"
     ]
    }
   ],
   "source": [
    "print(np.mean(score180))"
   ]
  },
  {
   "cell_type": "code",
   "execution_count": 16,
   "metadata": {
    "scrolled": true
   },
   "outputs": [
    {
     "name": "stderr",
     "output_type": "stream",
     "text": [
      "C:\\Users\\haruk\\Anaconda3\\envs\\ai-gpu\\Lib\\site-packages\\ipykernel_launcher.py:7: DeprecationWarning: `imresize` is deprecated!\n",
      "`imresize` is deprecated in SciPy 1.0.0, and will be removed in 1.2.0.\n",
      "Use ``skimage.transform.resize`` instead.\n",
      "  import sys\n",
      "C:\\Users\\haruk\\Anaconda3\\envs\\ai-gpu\\Lib\\site-packages\\ipykernel_launcher.py:17: DeprecationWarning: `imresize` is deprecated!\n",
      "`imresize` is deprecated in SciPy 1.0.0, and will be removed in 1.2.0.\n",
      "Use ``skimage.transform.resize`` instead.\n"
     ]
    },
    {
     "name": "stdout",
     "output_type": "stream",
     "text": [
      "test episode: 0 R: 3.0\n",
      "test episode: 1 R: 2.0\n",
      "test episode: 2 R: 3.0\n",
      "test episode: 3 R: 1.0\n",
      "test episode: 4 R: 5.0\n",
      "test episode: 5 R: 2.0\n",
      "test episode: 6 R: 4.0\n",
      "test episode: 7 R: 3.0\n",
      "test episode: 8 R: 4.0\n",
      "test episode: 9 R: 4.0\n",
      "test episode: 10 R: 3.0\n",
      "test episode: 11 R: 12.0\n",
      "test episode: 12 R: 5.0\n",
      "test episode: 13 R: 4.0\n",
      "test episode: 14 R: 2.0\n",
      "test episode: 15 R: 2.0\n",
      "test episode: 16 R: 5.0\n",
      "test episode: 17 R: 5.0\n",
      "test episode: 18 R: 5.0\n",
      "test episode: 19 R: 1.0\n",
      "test episode: 20 R: 1.0\n",
      "test episode: 21 R: 2.0\n",
      "test episode: 22 R: 1.0\n",
      "test episode: 23 R: 4.0\n",
      "test episode: 24 R: 8.0\n",
      "test episode: 25 R: 1.0\n",
      "test episode: 26 R: 2.0\n",
      "test episode: 27 R: 4.0\n",
      "test episode: 28 R: 3.0\n",
      "test episode: 29 R: 3.0\n",
      "test episode: 30 R: 1.0\n",
      "test episode: 31 R: 3.0\n",
      "test episode: 32 R: 2.0\n",
      "test episode: 33 R: 10.0\n",
      "test episode: 34 R: 5.0\n",
      "test episode: 35 R: 1.0\n",
      "test episode: 36 R: 2.0\n",
      "test episode: 37 R: 1.0\n",
      "test episode: 38 R: 3.0\n",
      "test episode: 39 R: 3.0\n",
      "test episode: 40 R: 1.0\n",
      "test episode: 41 R: 1.0\n",
      "test episode: 42 R: 5.0\n",
      "test episode: 43 R: 3.0\n",
      "test episode: 44 R: 4.0\n",
      "test episode: 45 R: 5.0\n",
      "test episode: 46 R: 2.0\n",
      "test episode: 47 R: 0.0\n",
      "test episode: 48 R: 1.0\n",
      "test episode: 49 R: 1.0\n"
     ]
    }
   ],
   "source": [
    "score200 = [0 for i in range(50)]\n",
    "agent.load('Breakout200')\n",
    "for i in range(50):\n",
    "    obs4steps = np.zeros((4,84,84))\n",
    "    obs = env.reset()\n",
    "    obs = obs[:,:,0]\n",
    "    obs = (misc.imresize(obs, (110,84)))[110-84-8:110-8, :]\n",
    "    obs4steps[0] = obs\n",
    "    done = False\n",
    "    R = 0\n",
    "    t = 0\n",
    "    while not done:\n",
    "#         env.render()\n",
    "        action = agent.act(obs4steps)\n",
    "        obs, r, done, _ = env.step(action)\n",
    "        obs = obs[:,:,0]\n",
    "        obs = (misc.imresize(obs, (110,84)))[110-84-8:110-8, :]\n",
    "        obs4steps = np.roll(obs4steps, 1, axis=0)\n",
    "        obs4steps[0] = obs\n",
    "        R += r\n",
    "        t += 1\n",
    "        if np.allclose(obs4steps[0], obs4steps[3]):\n",
    "            env.step(1)\n",
    "    \n",
    "    score200[i] = R\n",
    "    print('test episode:', i, 'R:', R)"
   ]
  },
  {
   "cell_type": "code",
   "execution_count": 17,
   "metadata": {},
   "outputs": [
    {
     "name": "stdout",
     "output_type": "stream",
     "text": [
      "3.16\n"
     ]
    }
   ],
   "source": [
    "print(np.mean(score200))"
   ]
  },
  {
   "cell_type": "code",
   "execution_count": 18,
   "metadata": {},
   "outputs": [
    {
     "name": "stdout",
     "output_type": "stream",
     "text": [
      "reward: 0.0\n",
      "done: True\n",
      "info {'ale.lives': 0}\n"
     ]
    },
    {
     "data": {
      "image/png": "[encoded data removed]",
      "text/plain": [
       "<Figure size 432x288 with 1 Axes>"
      ]
     },
     "metadata": {
      "needs_background": "light"
     },
     "output_type": "display_data"
    }
   ],
   "source": [
    "obs, r, done, info = env.step(action)\n",
    "plt.figure()\n",
    "plt.imshow(obs)\n",
    "print('reward:', r)\n",
    "print('done:', done)\n",
    "print('info', info)"
   ]
  },
  {
   "cell_type": "code",
   "execution_count": null,
   "metadata": {},
   "outputs": [],
   "source": []
  }
 ],
 "metadata": {
  "kernelspec": {
   "display_name": "Python 3",
   "language": "python",
   "name": "python3"
  },
  "language_info": {
   "codemirror_mode": {
    "name": "ipython",
    "version": 3
   },
   "file_extension": ".py",
   "mimetype": "text/x-python",
   "name": "python",
   "nbconvert_exporter": "python",
   "pygments_lexer": "ipython3",
   "version": "3.7.4"
  }
 },
 "nbformat": 4,
 "nbformat_minor": 2
}
