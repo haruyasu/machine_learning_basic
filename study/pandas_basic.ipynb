{
 "cells": [
  {
   "cell_type": "markdown",
   "metadata": {},
   "source": [
    "# Pandas"
   ]
  },
  {
   "cell_type": "code",
   "execution_count": 1,
   "metadata": {},
   "outputs": [],
   "source": [
    "import pandas as pd"
   ]
  },
  {
   "cell_type": "code",
   "execution_count": 4,
   "metadata": {},
   "outputs": [],
   "source": [
    "df = pd.read_csv('salaries.csv')"
   ]
  },
  {
   "cell_type": "code",
   "execution_count": 5,
   "metadata": {},
   "outputs": [
    {
     "data": {
      "text/html": [
       "<div>\n",
       "<style scoped>\n",
       "    .dataframe tbody tr th:only-of-type {\n",
       "        vertical-align: middle;\n",
       "    }\n",
       "\n",
       "    .dataframe tbody tr th {\n",
       "        vertical-align: top;\n",
       "    }\n",
       "\n",
       "    .dataframe thead th {\n",
       "        text-align: right;\n",
       "    }\n",
       "</style>\n",
       "<table border=\"1\" class=\"dataframe\">\n",
       "  <thead>\n",
       "    <tr style=\"text-align: right;\">\n",
       "      <th></th>\n",
       "      <th>Name</th>\n",
       "      <th>Salary</th>\n",
       "      <th>Age</th>\n",
       "    </tr>\n",
       "  </thead>\n",
       "  <tbody>\n",
       "    <tr>\n",
       "      <td>0</td>\n",
       "      <td>John</td>\n",
       "      <td>50000</td>\n",
       "      <td>34</td>\n",
       "    </tr>\n",
       "    <tr>\n",
       "      <td>1</td>\n",
       "      <td>Sally</td>\n",
       "      <td>120000</td>\n",
       "      <td>45</td>\n",
       "    </tr>\n",
       "    <tr>\n",
       "      <td>2</td>\n",
       "      <td>Alyssa</td>\n",
       "      <td>80000</td>\n",
       "      <td>27</td>\n",
       "    </tr>\n",
       "  </tbody>\n",
       "</table>\n",
       "</div>"
      ],
      "text/plain": [
       "     Name  Salary  Age\n",
       "0    John   50000   34\n",
       "1   Sally  120000   45\n",
       "2  Alyssa   80000   27"
      ]
     },
     "execution_count": 5,
     "metadata": {},
     "output_type": "execute_result"
    }
   ],
   "source": [
    "df"
   ]
  },
  {
   "cell_type": "code",
   "execution_count": 7,
   "metadata": {},
   "outputs": [
    {
     "data": {
      "text/html": [
       "<div>\n",
       "<style scoped>\n",
       "    .dataframe tbody tr th:only-of-type {\n",
       "        vertical-align: middle;\n",
       "    }\n",
       "\n",
       "    .dataframe tbody tr th {\n",
       "        vertical-align: top;\n",
       "    }\n",
       "\n",
       "    .dataframe thead th {\n",
       "        text-align: right;\n",
       "    }\n",
       "</style>\n",
       "<table border=\"1\" class=\"dataframe\">\n",
       "  <thead>\n",
       "    <tr style=\"text-align: right;\">\n",
       "      <th></th>\n",
       "      <th>Salary</th>\n",
       "      <th>Name</th>\n",
       "    </tr>\n",
       "  </thead>\n",
       "  <tbody>\n",
       "    <tr>\n",
       "      <td>0</td>\n",
       "      <td>50000</td>\n",
       "      <td>John</td>\n",
       "    </tr>\n",
       "    <tr>\n",
       "      <td>1</td>\n",
       "      <td>120000</td>\n",
       "      <td>Sally</td>\n",
       "    </tr>\n",
       "    <tr>\n",
       "      <td>2</td>\n",
       "      <td>80000</td>\n",
       "      <td>Alyssa</td>\n",
       "    </tr>\n",
       "  </tbody>\n",
       "</table>\n",
       "</div>"
      ],
      "text/plain": [
       "   Salary    Name\n",
       "0   50000    John\n",
       "1  120000   Sally\n",
       "2   80000  Alyssa"
      ]
     },
     "execution_count": 7,
     "metadata": {},
     "output_type": "execute_result"
    }
   ],
   "source": [
    "df[['Salary', 'Name']]"
   ]
  },
  {
   "cell_type": "code",
   "execution_count": 8,
   "metadata": {},
   "outputs": [
    {
     "data": {
      "text/plain": [
       "120000"
      ]
     },
     "execution_count": 8,
     "metadata": {},
     "output_type": "execute_result"
    }
   ],
   "source": [
    "df['Salary'].max()"
   ]
  },
  {
   "cell_type": "code",
   "execution_count": 9,
   "metadata": {},
   "outputs": [
    {
     "data": {
      "text/html": [
       "<div>\n",
       "<style scoped>\n",
       "    .dataframe tbody tr th:only-of-type {\n",
       "        vertical-align: middle;\n",
       "    }\n",
       "\n",
       "    .dataframe tbody tr th {\n",
       "        vertical-align: top;\n",
       "    }\n",
       "\n",
       "    .dataframe thead th {\n",
       "        text-align: right;\n",
       "    }\n",
       "</style>\n",
       "<table border=\"1\" class=\"dataframe\">\n",
       "  <thead>\n",
       "    <tr style=\"text-align: right;\">\n",
       "      <th></th>\n",
       "      <th>Salary</th>\n",
       "      <th>Age</th>\n",
       "    </tr>\n",
       "  </thead>\n",
       "  <tbody>\n",
       "    <tr>\n",
       "      <td>count</td>\n",
       "      <td>3.000000</td>\n",
       "      <td>3.000000</td>\n",
       "    </tr>\n",
       "    <tr>\n",
       "      <td>mean</td>\n",
       "      <td>83333.333333</td>\n",
       "      <td>35.333333</td>\n",
       "    </tr>\n",
       "    <tr>\n",
       "      <td>std</td>\n",
       "      <td>35118.845843</td>\n",
       "      <td>9.073772</td>\n",
       "    </tr>\n",
       "    <tr>\n",
       "      <td>min</td>\n",
       "      <td>50000.000000</td>\n",
       "      <td>27.000000</td>\n",
       "    </tr>\n",
       "    <tr>\n",
       "      <td>25%</td>\n",
       "      <td>65000.000000</td>\n",
       "      <td>30.500000</td>\n",
       "    </tr>\n",
       "    <tr>\n",
       "      <td>50%</td>\n",
       "      <td>80000.000000</td>\n",
       "      <td>34.000000</td>\n",
       "    </tr>\n",
       "    <tr>\n",
       "      <td>75%</td>\n",
       "      <td>100000.000000</td>\n",
       "      <td>39.500000</td>\n",
       "    </tr>\n",
       "    <tr>\n",
       "      <td>max</td>\n",
       "      <td>120000.000000</td>\n",
       "      <td>45.000000</td>\n",
       "    </tr>\n",
       "  </tbody>\n",
       "</table>\n",
       "</div>"
      ],
      "text/plain": [
       "              Salary        Age\n",
       "count       3.000000   3.000000\n",
       "mean    83333.333333  35.333333\n",
       "std     35118.845843   9.073772\n",
       "min     50000.000000  27.000000\n",
       "25%     65000.000000  30.500000\n",
       "50%     80000.000000  34.000000\n",
       "75%    100000.000000  39.500000\n",
       "max    120000.000000  45.000000"
      ]
     },
     "execution_count": 9,
     "metadata": {},
     "output_type": "execute_result"
    }
   ],
   "source": [
    "df.describe()"
   ]
  },
  {
   "cell_type": "code",
   "execution_count": 12,
   "metadata": {},
   "outputs": [
    {
     "data": {
      "text/html": [
       "<div>\n",
       "<style scoped>\n",
       "    .dataframe tbody tr th:only-of-type {\n",
       "        vertical-align: middle;\n",
       "    }\n",
       "\n",
       "    .dataframe tbody tr th {\n",
       "        vertical-align: top;\n",
       "    }\n",
       "\n",
       "    .dataframe thead th {\n",
       "        text-align: right;\n",
       "    }\n",
       "</style>\n",
       "<table border=\"1\" class=\"dataframe\">\n",
       "  <thead>\n",
       "    <tr style=\"text-align: right;\">\n",
       "      <th></th>\n",
       "      <th>Name</th>\n",
       "      <th>Salary</th>\n",
       "      <th>Age</th>\n",
       "    </tr>\n",
       "  </thead>\n",
       "  <tbody>\n",
       "    <tr>\n",
       "      <td>1</td>\n",
       "      <td>Sally</td>\n",
       "      <td>120000</td>\n",
       "      <td>45</td>\n",
       "    </tr>\n",
       "    <tr>\n",
       "      <td>2</td>\n",
       "      <td>Alyssa</td>\n",
       "      <td>80000</td>\n",
       "      <td>27</td>\n",
       "    </tr>\n",
       "  </tbody>\n",
       "</table>\n",
       "</div>"
      ],
      "text/plain": [
       "     Name  Salary  Age\n",
       "1   Sally  120000   45\n",
       "2  Alyssa   80000   27"
      ]
     },
     "execution_count": 12,
     "metadata": {},
     "output_type": "execute_result"
    }
   ],
   "source": [
    "df[df['Salary'] > 60000]"
   ]
  },
  {
   "cell_type": "code",
   "execution_count": 14,
   "metadata": {},
   "outputs": [
    {
     "name": "stderr",
     "output_type": "stream",
     "text": [
      "C:\\Users\\haruk\\Anaconda3\\envs\\ai-gpu\\Lib\\site-packages\\ipykernel_launcher.py:1: FutureWarning: Method .as_matrix will be removed in a future version. Use .values instead.\n",
      "  \"\"\"Entry point for launching an IPython kernel.\n"
     ]
    },
    {
     "data": {
      "text/plain": [
       "array([['John', 50000, 34],\n",
       "       ['Sally', 120000, 45],\n",
       "       ['Alyssa', 80000, 27]], dtype=object)"
      ]
     },
     "execution_count": 14,
     "metadata": {},
     "output_type": "execute_result"
    }
   ],
   "source": [
    "df.as_matrix()"
   ]
  },
  {
   "cell_type": "markdown",
   "metadata": {},
   "source": [
    "# Pandas 応用"
   ]
  },
  {
   "cell_type": "code",
   "execution_count": 2,
   "metadata": {},
   "outputs": [
    {
     "name": "stdout",
     "output_type": "stream",
     "text": [
      "   名前     役割   身長\n",
      "0  田中   営業部長  178\n",
      "1  山田    広報部  173\n",
      "2  高橋  技術責任者  169\n",
      "山田\n",
      "   名前   役割   身長\n",
      "1  山田  広報部  173\n",
      "\n",
      "田中\n",
      "   名前    役割   身長\n",
      "0  田中  営業部長  178\n",
      "\n",
      "高橋\n",
      "   名前     役割   身長\n",
      "2  高橋  技術責任者  169\n",
      "\n"
     ]
    },
    {
     "data": {
      "text/plain": [
       "'\\n出力結果\\n    名前     役割   身長\\n0  田中   営業部長  178\\n1  山田    広報部  173\\n2  高橋  技術責任者  169\\n\\n山田\\n   名前   役割   身長\\n1  山田  広報部  173\\n\\n田中\\n   名前    役割   身長\\n0  田中  営業部長  178\\n\\n高橋\\n   名前     役割   身長\\n2  高橋  技術責任者  169\\n'"
      ]
     },
     "execution_count": 2,
     "metadata": {},
     "output_type": "execute_result"
    }
   ],
   "source": [
    "import pandas as pd\n",
    "import numpy as np\n",
    "df = pd.DataFrame({\n",
    "        '名前' : ['田中', '山田', '高橋'],\n",
    "        '役割' : ['営業部長', '広報部', '技術責任者'],\n",
    "        '身長' : [178, 173, 169]\n",
    "    })\n",
    "print(df)\n",
    "\n",
    "# このデータを名前によってグループ分けします\n",
    "grouped = df.groupby('名前')\n",
    "for name, group in grouped:\n",
    "    print(name)\n",
    "    print(group)\n",
    "    print('')\n",
    "\n",
    "\"\"\"\n",
    "出力結果\n",
    "    名前     役割   身長\n",
    "0  田中   営業部長  178\n",
    "1  山田    広報部  173\n",
    "2  高橋  技術責任者  169\n",
    "\n",
    "山田\n",
    "   名前   役割   身長\n",
    "1  山田  広報部  173\n",
    "\n",
    "田中\n",
    "   名前    役割   身長\n",
    "0  田中  営業部長  178\n",
    "\n",
    "高橋\n",
    "   名前     役割   身長\n",
    "2  高橋  技術責任者  169\n",
    "\"\"\""
   ]
  },
  {
   "cell_type": "code",
   "execution_count": 3,
   "metadata": {},
   "outputs": [
    {
     "name": "stdout",
     "output_type": "stream",
     "text": [
      "A     3\n",
      "B     5\n",
      "C     7\n",
      "D    12\n",
      "dtype: int64\n",
      "A     2\n",
      "B     6\n",
      "C    10\n",
      "D    20\n",
      "dtype: int64\n",
      "   col1  col2\n",
      "A     1     2\n",
      "B     3     6\n",
      "C     5    10\n",
      "D    10    20\n"
     ]
    },
    {
     "data": {
      "text/plain": [
       "'\\n出力結果\\n   col1  col2\\nA     1     2\\nB     3     6\\nC     5    10\\nD    10    20\\n'"
      ]
     },
     "execution_count": 3,
     "metadata": {},
     "output_type": "execute_result"
    }
   ],
   "source": [
    "import pandas as pd\n",
    "\n",
    "d = pd.Series([1,3,5,10], index=[\"A\",\"B\",\"C\",\"D\"])\n",
    "\n",
    "d_plus2_apply = d.apply(lambda x: x + 2)\n",
    "print(d_plus2_apply)\n",
    "\n",
    "\"\"\"\n",
    "出力結果\n",
    "A     3\n",
    "B     5\n",
    "C     7\n",
    "D    12\n",
    "dtype: int64\n",
    "\"\"\"\n",
    "\n",
    "# またmapという関数も、applyと同じ挙動で使えます。\n",
    "\n",
    "print(d.map(lambda x: x * 2))\n",
    "\n",
    "\"\"\"\n",
    "出力結果\n",
    "A     2\n",
    "B     6\n",
    "C    10\n",
    "D    20\n",
    "dtype: int64\n",
    "\"\"\"\n",
    "\n",
    "# 更に、Seriesのデータ構造のものを、DataFrameにしたい場合には返り値をSeriesとすることで実装できます。\n",
    "\n",
    "d_DataFrame = d.apply(lambda x: pd.Series([x, x * 2], index=['col1', 'col2']))\n",
    "print(d_DataFrame)\n",
    "\n",
    "\"\"\"\n",
    "出力結果\n",
    "   col1  col2\n",
    "A     1     2\n",
    "B     3     6\n",
    "C     5    10\n",
    "D    10    20\n",
    "\"\"\""
   ]
  },
  {
   "cell_type": "code",
   "execution_count": 4,
   "metadata": {},
   "outputs": [
    {
     "name": "stdout",
     "output_type": "stream",
     "text": [
      "         体重     身長\n",
      "役割                \n",
      "エンジニア  66.0  178.0\n",
      "営業     60.0  173.5\n"
     ]
    },
    {
     "data": {
      "text/plain": [
       "'\\n出力結果\\n     体重     身長\\n役割\\nエンジニア  66.0  178.0\\n営業     60.0  173.5\\n'"
      ]
     },
     "execution_count": 4,
     "metadata": {},
     "output_type": "execute_result"
    }
   ],
   "source": [
    "import pandas as pd\n",
    "import numpy as np\n",
    "\n",
    "df = pd.DataFrame({\n",
    "        '役割' : ['営業', 'エンジニア', '営業', 'エンジニア'],\n",
    "        '体重' : [65, 60, 55, 72],\n",
    "        '身長' : [178, 173, 169, 183]\n",
    "    })\n",
    "\n",
    "#このデータを名前によってグループ分けします\n",
    "grouped = df.groupby('役割')\n",
    "\n",
    "#グループごとの平均値を求めます\n",
    "print(grouped.apply(np.mean))\n",
    "\n",
    "\"\"\"\n",
    "出力結果\n",
    "     体重     身長\n",
    "役割\n",
    "エンジニア  66.0  178.0\n",
    "営業     60.0  173.5\n",
    "\"\"\""
   ]
  },
  {
   "cell_type": "code",
   "execution_count": 7,
   "metadata": {},
   "outputs": [
    {
     "name": "stdout",
     "output_type": "stream",
     "text": [
      "           name  year product  expected  actual\n",
      "0   Ojima-Caffe  2015  coffee       682     757\n",
      "1   Ojima-Caffe  2015     tea       597     485\n",
      "2   Ojima-Caffe  2016  coffee       692     379\n",
      "3   Ojima-Caffe  2016     tea       575     308\n",
      "4   Ojima-Caffe  2017  coffee       508     597\n",
      "5   Ojima-Caffe  2017     tea       597     657\n",
      "6     Song-cafe  2015  coffee       603     651\n",
      "7     Song-cafe  2015     tea       391     483\n",
      "8     Song-cafe  2016  coffee       533     530\n",
      "9     Song-cafe  2016     tea       552     638\n",
      "10    Song-cafe  2017  coffee       793     732\n",
      "11    Song-cafe  2017     tea       642     407\n",
      "name        Ojima-Caffe\n",
      "year               2015\n",
      "product          coffee\n",
      "expected            682\n",
      "actual              757\n",
      "Name: 0, dtype: object\n",
      "                          expected  actual\n",
      "name        year product                  \n",
      "Ojima-Caffe 2015 coffee        682     757\n",
      "                 tea           597     485\n",
      "            2016 coffee        692     379\n",
      "                 tea           575     308\n",
      "            2017 coffee        508     597\n",
      "                 tea           597     657\n",
      "Song-cafe   2015 coffee        603     651\n",
      "                 tea           391     483\n",
      "            2016 coffee        533     530\n",
      "                 tea           552     638\n",
      "            2017 coffee        793     732\n",
      "                 tea           642     407\n",
      "expected    682\n",
      "actual      757\n",
      "Name: (Ojima-Caffe, 2015, coffee), dtype: int64\n",
      "              expected  actual\n",
      "year product                  \n",
      "2015 coffee        682     757\n",
      "     tea           597     485\n",
      "2016 coffee        692     379\n",
      "     tea           575     308\n",
      "2017 coffee        508     597\n",
      "     tea           597     657\n",
      "         expected  actual\n",
      "product                  \n",
      "coffee        682     757\n",
      "tea           597     485\n"
     ]
    }
   ],
   "source": [
    "import pandas as pd\n",
    "import numpy  as np\n",
    "df1 = pd.read_csv('MultiIndex.csv')\n",
    "print(df1)\n",
    "\n",
    "\"\"\"\n",
    "出力結果\n",
    "           name  year product  expected  actual\n",
    "0   Ojima-Caffe  2015  coffee       682     757\n",
    "1   Ojima-Caffe  2015     tea       597     485\n",
    "2   Ojima-Caffe  2016  coffee       692     379\n",
    "3   Ojima-Caffe  2016     tea       575     308\n",
    "4   Ojima-Caffe  2017  coffee       508     597\n",
    "5   Ojima-Caffe  2017     tea       597     657\n",
    "6     Song-cafe  2015  coffee       603     651\n",
    "7     Song-cafe  2015     tea       391     483\n",
    "8     Song-cafe  2016  coffee       533     530\n",
    "9     Song-cafe  2016     tea       552     638\n",
    "10    Song-cafe  2017  coffee       793     732\n",
    "11    Song-cafe  2017     tea       642     407\n",
    "\"\"\"\n",
    "\n",
    "\"\"\"\n",
    "これらのデータの選択は少し困難になります。\n",
    "例えば2015年Ojima-caffeのコーヒーの売り上げを選択しようと思った場合、\n",
    "下のように非常に長いコードを使わなければなりません。\n",
    "\"\"\"\n",
    "print(df1[(df1[\"name\"] == \"Ojima-Caffe\")&(df1[\"year\"] == 2015)&(df1[\"product\"] == \"coffee\")].iloc[0])\n",
    "\n",
    "\"\"\"\n",
    "出力結果\n",
    "name        Ojima-Caffe\n",
    "year               2015\n",
    "product          coffee\n",
    "expected            682\n",
    "actual              757\n",
    "Name: 0, dtype: object\n",
    "\"\"\"\n",
    "\n",
    "\"\"\"\n",
    "ここで、Multi Indexの出番です。このようなデータには、Multi Index（複数のインデックス）を指定してデータを読み込みます。\n",
    "\"\"\"\n",
    "\n",
    "Multi_df = pd.read_csv(\"MultiIndex.csv\",index_col=[\"name\",\"year\",\"product\"])\n",
    "print(Multi_df)\n",
    "\n",
    "\"\"\"\n",
    "出力結果\n",
    "                            expected  actual\n",
    "name        year product\n",
    "Ojima-Caffe 2015 coffee        682     757\n",
    "                 tea           597     485\n",
    "            2016 coffee        692     379\n",
    "                 tea           575     308\n",
    "            2017 coffee        508     597\n",
    "                 tea           597     657\n",
    "Song-cafe   2015 coffee        603     651\n",
    "                 tea           391     483\n",
    "            2016 coffee        533     530\n",
    "                 tea           552     638\n",
    "            2017 coffee        793     732\n",
    "                 tea           642     407\n",
    "\"\"\"\n",
    "\n",
    "\"\"\"\n",
    "見た目としては、あまり変わりませんが、このように読み込むことによって、\n",
    "インデックスと実測値との関係が明白になりました。\n",
    "実際に、タプルを渡すことのみで、簡単にデータの選択ができます。\n",
    "\"\"\"\n",
    "\n",
    "print(Multi_df.loc[(\"Ojima-Caffe\",2015,\"coffee\")])\n",
    "\n",
    "\"\"\"\n",
    "出力結果\n",
    "expected    682\n",
    "actual      757\n",
    "Name: (Ojima-Caffe, 2015, coffee), dtype: int64\n",
    "\"\"\"\n",
    "\n",
    "\"\"\"\n",
    "階層型インデックスの構成を使うことによって、当然、処理速度も速くなります。\n",
    "他にもより広範囲なインデックスのデータを参照したい時は、以下のようなコードを記述してください。\n",
    "\"\"\"\n",
    "\n",
    "print(Multi_df.loc[(\"Ojima-Caffe\")])\n",
    "print(Multi_df.loc[(\"Ojima-Caffe\",2015)])\n",
    "\n",
    "\"\"\"\n",
    "出力結果\n",
    "              expected  actual\n",
    "year product\n",
    "2015 coffee        682     757\n",
    "     tea           597     485\n",
    "2016 coffee        692     379\n",
    "     tea           575     308\n",
    "2017 coffee        508     597\n",
    "     tea           597     657\n",
    "         expected  actual\n",
    "product\n",
    "coffee        682     757\n",
    "tea           597     485\n",
    "\"\"\"\n",
    "\n",
    "\"\"\"\n",
    "さらに、このようなデータフレームをCSVファイルとして出力する便利なコードがあります。\n",
    "これによってMultiIndexであってもきちんと全行フルに出力してくれます。\n",
    "\"\"\"\n",
    "\n",
    "Multi_df.to_csv(\"DataFrame.csv\")"
   ]
  },
  {
   "cell_type": "code",
   "execution_count": 8,
   "metadata": {},
   "outputs": [
    {
     "name": "stdout",
     "output_type": "stream",
     "text": [
      "                          expected  actual  price\n",
      "name        year product                         \n",
      "Ojima-Caffe 2015 coffee        682     757    320\n",
      "                 tea           597     485    210\n",
      "            2016 coffee        692     379    310\n",
      "                 tea           575     308    180\n",
      "            2017 coffee        508     597    315\n",
      "                 tea           597     657    170\n",
      "Song-cafe   2015 coffee        603     651    300\n",
      "                 tea           391     483    240\n",
      "            2016 coffee        533     530    310\n",
      "                 tea           552     638    220\n",
      "            2017 coffee        793     732    330\n",
      "                 tea           642     407    220\n",
      "                          expected  actual  price  total_expected  \\\n",
      "name        year product                                            \n",
      "Ojima-Caffe 2015 coffee        682     757    320          218240   \n",
      "                 tea           597     485    210          125370   \n",
      "            2016 coffee        692     379    310          214520   \n",
      "                 tea           575     308    180          103500   \n",
      "            2017 coffee        508     597    315          160020   \n",
      "                 tea           597     657    170          101490   \n",
      "Song-cafe   2015 coffee        603     651    300          180900   \n",
      "                 tea           391     483    240           93840   \n",
      "            2016 coffee        533     530    310          165230   \n",
      "                 tea           552     638    220          121440   \n",
      "            2017 coffee        793     732    330          261690   \n",
      "                 tea           642     407    220          141240   \n",
      "\n",
      "                          total_actual  \n",
      "name        year product                \n",
      "Ojima-Caffe 2015 coffee         242240  \n",
      "                 tea            101850  \n",
      "            2016 coffee         117490  \n",
      "                 tea             55440  \n",
      "            2017 coffee         188055  \n",
      "                 tea            111690  \n",
      "Song-cafe   2015 coffee         195300  \n",
      "                 tea            115920  \n",
      "            2016 coffee         164300  \n",
      "                 tea            140360  \n",
      "            2017 coffee         241560  \n",
      "                 tea             89540  \n"
     ]
    }
   ],
   "source": [
    "import numpy  as np\n",
    "import pandas as pd\n",
    "df2 = pd.read_csv(\"MultiIndex.csv\",index_col=[\"name\",\"year\",\"product\"])\n",
    "df2['price'] = np.array([320, 210, 310, 180, 315, 170,\n",
    "                        300, 240, 310, 220, 330, 220])\n",
    "print(df2)\n",
    "\n",
    "\"\"\"\n",
    "出力結果\n",
    "                          expected  actual  price\n",
    "name        year product\n",
    "Ojima-Caffe 2015 coffee        682     757    320\n",
    "                 tea           597     485    210\n",
    "            2016 coffee        692     379    310\n",
    "                 tea           575     308    180\n",
    "            2017 coffee        508     597    315\n",
    "                 tea           597     657    170\n",
    "Song-cafe   2015 coffee        603     651    300\n",
    "                 tea           391     483    240\n",
    "            2016 coffee        533     530    310\n",
    "                 tea           552     638    220\n",
    "            2017 coffee        793     732    330\n",
    "                 tea           642     407    220\n",
    "\"\"\"\n",
    "\n",
    "\"\"\"\n",
    "さらに、既存のデータフレームの列にある値を受け取り、apply関数を使うことで新しい列に値を格納することもできます。\n",
    "例えば、’expected’と’actual’にある列の数量データからデータを取得し、値段と掛け合わせることによって、’total_expected’, ‘total_actual’を計算して、新しい列に追加するためには以下のようなコードで実装できます。\n",
    "\"\"\"\n",
    "\n",
    "def total_expected_def(series):\n",
    "    return series['expected'] * series['price']\n",
    "\n",
    "def total_actual_def(series):\n",
    "    return series['actual'] * series['price']\n",
    "\n",
    "df2['total_expected'] = df2.apply(total_expected_def,axis=1)\n",
    "df2['total_actual'] = df2.apply(total_actual_def,axis=1)\n",
    "print(df2)"
   ]
  },
  {
   "cell_type": "code",
   "execution_count": 10,
   "metadata": {},
   "outputs": [
    {
     "name": "stdout",
     "output_type": "stream",
     "text": [
      "         expected      actual\n",
      "count   12.000000   12.000000\n",
      "mean   597.083333  552.000000\n",
      "std    101.662953  142.986331\n",
      "min    391.000000  308.000000\n",
      "25%    547.250000  464.000000\n",
      "50%    597.000000  563.500000\n",
      "75%    652.000000  652.500000\n",
      "max    793.000000  757.000000\n"
     ]
    },
    {
     "data": {
      "text/plain": [
       "'\\n出力結果\\n         expected      actual\\ncount   12.000000   12.000000\\nmean   597.083333  552.000000\\nstd    101.662953  142.986331\\nmin    391.000000  308.000000\\n25%    547.250000  464.000000\\n50%    597.000000  563.500000\\n75%    652.000000  652.500000\\nmax    793.000000  757.000000\\n'"
      ]
     },
     "execution_count": 10,
     "metadata": {},
     "output_type": "execute_result"
    }
   ],
   "source": [
    "import pandas as pd\n",
    "df = pd.read_csv(\"MultiIndex.csv\",index_col=[\"name\",\"year\",\"product\"])\n",
    "print(df.describe())\n",
    "\n",
    "\"\"\"\n",
    "出力結果\n",
    "         expected      actual\n",
    "count   12.000000   12.000000\n",
    "mean   597.083333  552.000000\n",
    "std    101.662953  142.986331\n",
    "min    391.000000  308.000000\n",
    "25%    547.250000  464.000000\n",
    "50%    597.000000  563.500000\n",
    "75%    652.000000  652.500000\n",
    "max    793.000000  757.000000\n",
    "\"\"\""
   ]
  },
  {
   "cell_type": "code",
   "execution_count": 11,
   "metadata": {},
   "outputs": [
    {
     "name": "stdout",
     "output_type": "stream",
     "text": [
      "          expected    actual\n",
      "expected  1.000000  0.271756\n",
      "actual    0.271756  1.000000\n"
     ]
    },
    {
     "data": {
      "text/plain": [
       "'\\n          expected    actual\\nexpected  1.000000  0.271756\\nactual    0.271756  1.000000\\n'"
      ]
     },
     "execution_count": 11,
     "metadata": {},
     "output_type": "execute_result"
    }
   ],
   "source": [
    "import pandas as np\n",
    "df = pd.read_csv(\"MultiIndex.csv\",index_col=[\"name\",\"year\",\"product\"])\n",
    "print(df.corr())\n",
    "\n",
    "# 出力結果\n",
    "\"\"\"\n",
    "          expected    actual\n",
    "expected  1.000000  0.271756\n",
    "actual    0.271756  1.000000\n",
    "\"\"\""
   ]
  },
  {
   "cell_type": "code",
   "execution_count": 12,
   "metadata": {},
   "outputs": [
    {
     "name": "stdout",
     "output_type": "stream",
     "text": [
      "   名前     役割   身長\n",
      "0  田中     営業  178\n",
      "1  山田  エンジニア  173\n",
      "2  高橋     広報  169\n",
      "3  金沢     営業  165\n",
      "4  加藤  エンジニア  174\n",
      "   名前  体重\n",
      "0  田中  64\n",
      "1  金沢  58\n",
      "   名前  役割   身長  体重\n",
      "0  田中  営業  178  64\n",
      "1  金沢  営業  165  58\n",
      "   名前     役割   身長    体重\n",
      "0  田中     営業  178  64.0\n",
      "1  山田  エンジニア  173   NaN\n",
      "2  高橋     広報  169   NaN\n",
      "3  金沢     営業  165  58.0\n",
      "4  加藤  エンジニア  174   NaN\n"
     ]
    },
    {
     "data": {
      "text/plain": [
       "'\\n   名前     役割   身長    体重\\n0  田中     営業  178  64.0\\n1  山田  エンジニア  173   NaN\\n2  高橋     広報  169   NaN\\n3  金沢     営業  165  58.0\\n4  加藤  エンジニア  174   NaN\\n'"
      ]
     },
     "execution_count": 12,
     "metadata": {},
     "output_type": "execute_result"
    }
   ],
   "source": [
    "import pandas as pd\n",
    "from pandas import DataFrame, Series\n",
    "\n",
    "df = DataFrame({\n",
    "    '名前' :['田中','山田','高橋','金沢','加藤'],\n",
    "    '役割' :['営業','エンジニア','広報','営業','エンジニア'],\n",
    "    '身長' :[178, 173, 169, 165, 174]\n",
    "    })\n",
    "\n",
    "other = DataFrame({\n",
    "        '名前' :['田中','金沢',],\n",
    "        '体重' : [64, 58]\n",
    "        })\n",
    "\n",
    "print(df)\n",
    "print(other)\n",
    "\n",
    "\"\"\"\n",
    "出力結果\n",
    "   名前     役割   身長\n",
    "0  田中     営業  178\n",
    "1  山田  エンジニア  173\n",
    "2  高橋     広報  169\n",
    "3  金沢     営業  165\n",
    "4  加藤  エンジニア  174\n",
    "\n",
    "   体重  名前\n",
    "0  64  田中\n",
    "1  58  金沢\n",
    "\"\"\"\n",
    "\n",
    "\"\"\"\n",
    "こういったデータフレームのデータの結合にはmerge関数を使います。\n",
    "まず理論より先に実際の使い方を説明していきます。\n",
    "\"\"\"\n",
    "\n",
    "print(pd.merge(df, other, on='名前', how='inner'))\n",
    "\n",
    "\"\"\"\n",
    "出力結果\n",
    "   名前  役割   身長  体重\n",
    "0  田中  営業  178  64\n",
    "1  金沢  営業  165  58\n",
    "\"\"\"\n",
    "\n",
    "\"\"\"\n",
    "上記した「how=’inner’」によって、結合方法を明記しましたが、デフォルトでも’inner’なので指定はしなくても問題ありません。\n",
    "Innerは「内部結合」という手法の結合方法で、両方のデータに含まれるキーだけを残します。\n",
    "さらに、inner以外にもouterという結合方法があります。\n",
    "Outerは、完全外部結合と呼ばれる結合方法で、すべてのキーを残します。\n",
    "実際にouterの結合方法で結合を行うと、以下のような出力がされます。\n",
    "\"\"\"\n",
    "\n",
    "print(pd.merge(df, other, on='名前', how='outer'))\n",
    "\n",
    "\"\"\"\n",
    "   名前     役割   身長    体重\n",
    "0  田中     営業  178  64.0\n",
    "1  山田  エンジニア  173   NaN\n",
    "2  高橋     広報  169   NaN\n",
    "3  金沢     営業  165  58.0\n",
    "4  加藤  エンジニア  174   NaN\n",
    "\"\"\""
   ]
  },
  {
   "cell_type": "markdown",
   "metadata": {},
   "source": [
    "# まとめ\n",
    "Pandasのデータ解析として\n",
    "- データのイテレーション\n",
    "- map, apply, applymap関数\n",
    "- 階層型インデックス（Multi Index）\n",
    "- データフレームの列追加\n",
    "- 統計処理\n",
    "- データの結合（マージ関数）"
   ]
  },
  {
   "cell_type": "code",
   "execution_count": null,
   "metadata": {},
   "outputs": [],
   "source": []
  }
 ],
 "metadata": {
  "kernelspec": {
   "display_name": "Python 3",
   "language": "python",
   "name": "python3"
  },
  "language_info": {
   "codemirror_mode": {
    "name": "ipython",
    "version": 3
   },
   "file_extension": ".py",
   "mimetype": "text/x-python",
   "name": "python",
   "nbconvert_exporter": "python",
   "pygments_lexer": "ipython3",
   "version": "3.7.4"
  }
 },
 "nbformat": 4,
 "nbformat_minor": 4
}
