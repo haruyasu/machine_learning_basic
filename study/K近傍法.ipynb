{
 "cells": [
  {
   "cell_type": "markdown",
   "metadata": {},
   "source": [
    "# K近傍法"
   ]
  },
  {
   "cell_type": "markdown",
   "metadata": {},
   "source": [
    "K近傍法分類器(k-nearest neighbor classifier / K-NN)は教師ありアルゴリズムで、怠惰学習(lazy learning)の代表例です。"
   ]
  },
  {
   "cell_type": "code",
   "execution_count": 2,
   "metadata": {},
   "outputs": [
    {
     "name": "stdout",
     "output_type": "stream",
     "text": [
      "0.9473684210526315\n",
      "0.9736842105263158\n"
     ]
    }
   ],
   "source": [
    "from sklearn.datasets import load_iris\n",
    "from sklearn.neighbors import KNeighborsClassifier\n",
    "from sklearn.model_selection import train_test_split \n",
    "from sklearn.metrics import accuracy_score\n",
    "import matplotlib.pyplot as plt\n",
    "import seaborn as sns\n",
    "\n",
    "iris = load_iris()\n",
    "x = iris.data\n",
    "y = iris.target\n",
    "\n",
    "x_train, x_test, y_train, y_test = train_test_split(x, y,random_state=123) \n",
    "\n",
    "model = KNeighborsClassifier(n_neighbors=3) # n_neighborsを渡さない場合、初期値は5 \n",
    "model.fit(x_train, y_train)\n",
    "pred = model.predict(x_test) \n",
    "\n",
    "print(accuracy_score(y_test, pred)) # 0.94\n",
    "\n",
    "model2 = KNeighborsClassifier(n_neighbors=8)  \n",
    "model2.fit(x_train, y_train)\n",
    "pred2 = model2.predict(x_test) \n",
    "\n",
    "print(accuracy_score(y_test, pred2)) # 0.97"
   ]
  },
  {
   "cell_type": "code",
   "execution_count": null,
   "metadata": {},
   "outputs": [],
   "source": []
  }
 ],
 "metadata": {
  "kernelspec": {
   "display_name": "Python 3",
   "language": "python",
   "name": "python3"
  },
  "language_info": {
   "codemirror_mode": {
    "name": "ipython",
    "version": 3
   },
   "file_extension": ".py",
   "mimetype": "text/x-python",
   "name": "python",
   "nbconvert_exporter": "python",
   "pygments_lexer": "ipython3",
   "version": "3.7.4"
  }
 },
 "nbformat": 4,
 "nbformat_minor": 4
}
