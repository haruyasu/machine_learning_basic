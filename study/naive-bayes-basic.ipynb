{
 "cells": [
  {
   "cell_type": "code",
   "execution_count": 1,
   "metadata": {},
   "outputs": [],
   "source": [
    "# 必要なライブラリのインポート\n",
    "from sklearn.naive_bayes import GaussianNB\n",
    "import numpy as np\n",
    "import matplotlib.pyplot as plt\n",
    "%matplotlib inline"
   ]
  },
  {
   "cell_type": "code",
   "execution_count": 2,
   "metadata": {},
   "outputs": [],
   "source": [
    "#トレーニングデータセットの用意\n",
    "x = np.array([[-2,6], [0,6], [0,7], [-2,5], [-3,3], [-1,0], [-2,0], [-3,1], [-1,4], [0,3], [0,1], [-1,7], [-3,5], [-4,3], [-2,0], [-3,7], [1,5], [1,2], [-2,3], [2,3], [-4,0], [-1,3], [1,1], [-2,2], [2,7], [-4,1]])\n",
    "y = np.array([2, 1, 2, 1, 1, 2, 2, 2, 1, 1, 2, 2, 2, 2, 2, 1, 1, 1, 2, 2, 1, 1, 2, 1, 2, 2])"
   ]
  },
  {
   "cell_type": "code",
   "execution_count": 4,
   "metadata": {},
   "outputs": [
    {
     "name": "stdout",
     "output_type": "stream",
     "text": [
      "[[ 0  6  1]\n",
      " [-2  5  1]\n",
      " [-3  3  1]\n",
      " [-1  4  1]\n",
      " [ 0  3  1]\n",
      " [-3  7  1]\n",
      " [ 1  5  1]\n",
      " [ 1  2  1]\n",
      " [-4  0  1]\n",
      " [-1  3  1]\n",
      " [-2  2  1]]\n",
      "[[-2  6  2]\n",
      " [ 0  7  2]\n",
      " [-1  0  2]\n",
      " [-2  0  2]\n",
      " [-3  1  2]\n",
      " [ 0  1  2]\n",
      " [-1  7  2]\n",
      " [-3  5  2]\n",
      " [-4  3  2]\n",
      " [-2  0  2]\n",
      " [-2  3  2]\n",
      " [ 2  3  2]\n",
      " [ 1  1  2]\n",
      " [ 2  7  2]\n",
      " [-4  1  2]]\n"
     ]
    },
    {
     "data": {
      "image/png": "[encoded data removed]",
      "text/plain": [
       "<Figure size 432x288 with 1 Axes>"
      ]
     },
     "metadata": {
      "needs_background": "light"
     },
     "output_type": "display_data"
    }
   ],
   "source": [
    "# グラフ描画に向けてのデータの整形\n",
    "data = np.hstack((x, y.reshape(y.shape[0],1)))\n",
    "# print(data)\n",
    " \n",
    "data1 = data[np.where(data[:,2]==1)]\n",
    "data2 = data[np.where(data[:,2]==2)]\n",
    "print(data1)\n",
    "print(data2)\n",
    " \n",
    "# matplotlibを用いたデータの可視化（グラフ化）\n",
    "plt.close(\"all\")\n",
    "plt.scatter(data1[:,0], data1[:,1], c=\"tab:blue\")\n",
    "plt.scatter(data2[:,0], data2[:,1], c=\"tab:red\")\n",
    "plt.show()"
   ]
  },
  {
   "cell_type": "code",
   "execution_count": 5,
   "metadata": {},
   "outputs": [
    {
     "name": "stdout",
     "output_type": "stream",
     "text": [
      "Model fitted.\n"
     ]
    }
   ],
   "source": [
    "# モデルの学習\n",
    "model = GaussianNB()\n",
    "model.fit(x, y)\n",
    "print(\"Model fitted.\")"
   ]
  },
  {
   "cell_type": "code",
   "execution_count": 6,
   "metadata": {},
   "outputs": [
    {
     "data": {
      "image/png": "[encoded data removed]",
      "text/plain": [
       "<Figure size 432x288 with 1 Axes>"
      ]
     },
     "metadata": {
      "needs_background": "light"
     },
     "output_type": "display_data"
    }
   ],
   "source": [
    "# テストデータの用意\n",
    "test_data = np.array([[0,4], [1,0]])\n",
    " \n",
    "# matplotlibを用いたデータの可視化（グラフ化）\n",
    "plt.close(\"all\")\n",
    "plt.scatter(data1[:,0], data1[:,1], c=\"tab:blue\")\n",
    "plt.scatter(data2[:,0], data2[:,1], c=\"tab:red\")\n",
    "plt.scatter(test_data[:,0], test_data[:,1], c=\"k\" )\n",
    "plt.show()"
   ]
  },
  {
   "cell_type": "code",
   "execution_count": 7,
   "metadata": {},
   "outputs": [
    {
     "name": "stdout",
     "output_type": "stream",
     "text": [
      "Label of test data [0 4] : 1\n",
      "Label of test data [1 0] : 2\n"
     ]
    }
   ],
   "source": [
    "# テストデータの分類\n",
    "test_label = model.predict(test_data)\n",
    "print(\"Label of test data\", test_data[0], \":\", test_label[0])\n",
    "print(\"Label of test data\", test_data[1], \":\", test_label[1])"
   ]
  },
  {
   "cell_type": "code",
   "execution_count": null,
   "metadata": {},
   "outputs": [],
   "source": []
  }
 ],
 "metadata": {
  "kernelspec": {
   "display_name": "Python 3",
   "language": "python",
   "name": "python3"
  },
  "language_info": {
   "codemirror_mode": {
    "name": "ipython",
    "version": 3
   },
   "file_extension": ".py",
   "mimetype": "text/x-python",
   "name": "python",
   "nbconvert_exporter": "python",
   "pygments_lexer": "ipython3",
   "version": "3.7.4"
  }
 },
 "nbformat": 4,
 "nbformat_minor": 2
}
