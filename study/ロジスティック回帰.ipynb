{
 "cells": [
  {
   "cell_type": "markdown",
   "metadata": {},
   "source": [
    "# ロジスティック回帰"
   ]
  },
  {
   "cell_type": "code",
   "execution_count": 8,
   "metadata": {},
   "outputs": [
    {
     "name": "stderr",
     "output_type": "stream",
     "text": [
      "c:\\users\\haruk\\anaconda3\\envs\\dev\\lib\\site-packages\\sklearn\\linear_model\\logistic.py:469: FutureWarning: Default multi_class will be changed to 'auto' in 0.22. Specify the multi_class option to silence this warning.\n",
      "  \"this warning.\", FutureWarning)\n"
     ]
    },
    {
     "data": {
      "text/plain": [
       "0.9473684210526315"
      ]
     },
     "execution_count": 8,
     "metadata": {},
     "output_type": "execute_result"
    }
   ],
   "source": [
    "from sklearn.model_selection import train_test_split\n",
    "from sklearn.metrics import accuracy_score\n",
    "from sklearn.datasets import load_iris\n",
    "from sklearn.linear_model import LogisticRegression \n",
    "\n",
    "dataset = load_iris() \n",
    "X, y = dataset.data, dataset.target\n",
    "\n",
    "# モデル作成(初期化)\n",
    "model = LogisticRegression(solver='liblinear')\n",
    "# 分割 (トレーニングとテスト用にデータを分ける)して、モデルを作り、最後 に予測の精度を見ます\n",
    "X_train, X_test, Y_train, Y_test = train_test_split(X, y)\n",
    "# モデルの作成(初期化)\n",
    "\"\"\"\n",
    "Pythonのバージョンが3.7の場合、下記のコードだとWarningがでる場合があります。\n",
    "その際には、model = LogisticRegression()の部分を、\n",
    "model = LogisticRegression(solver='liblinear')\n",
    "に書き換えてみてください。\n",
    "\"\"\"\n",
    "\n",
    "# model = LogisticRegression(solver='liblinear')\n",
    "model.fit(X_train, Y_train)\n",
    "# 値の予測\n",
    "pred = model.predict(X_test)\n",
    "# テストデータを使って、どれくらい正しいかどうかを計算\n",
    "accuracy_score(Y_test, pred)"
   ]
  },
  {
   "cell_type": "code",
   "execution_count": null,
   "metadata": {},
   "outputs": [],
   "source": []
  }
 ],
 "metadata": {
  "kernelspec": {
   "display_name": "Python 3",
   "language": "python",
   "name": "python3"
  },
  "language_info": {
   "codemirror_mode": {
    "name": "ipython",
    "version": 3
   },
   "file_extension": ".py",
   "mimetype": "text/x-python",
   "name": "python",
   "nbconvert_exporter": "python",
   "pygments_lexer": "ipython3",
   "version": "3.7.4"
  }
 },
 "nbformat": 4,
 "nbformat_minor": 4
}
