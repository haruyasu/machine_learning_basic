{
 "cells": [
  {
   "cell_type": "code",
   "execution_count": 1,
   "metadata": {},
   "outputs": [
    {
     "data": {
      "image/png": "[encoded data removed]",
      "text/plain": [
       "<Figure size 432x288 with 1 Axes>"
      ]
     },
     "metadata": {
      "needs_background": "light"
     },
     "output_type": "display_data"
    }
   ],
   "source": [
    "import numpy as np\n",
    "import matplotlib.pyplot as plt\n",
    "%matplotlib inline\n",
    "\n",
    "# 予測\n",
    "def predict(w_vec, x_vec):\n",
    "    output = np.dot(w_vec, x_vec)\n",
    "    if output >= 0:\n",
    "        res = 1\n",
    "    else:\n",
    "        res = -1\n",
    "    return [res, output]\n",
    "\n",
    "\n",
    "\n",
    "\n",
    "# 学習\n",
    "def train(w_vec, x_vec, label):\n",
    "    [res, output] = predict(w_vec, x_vec)\n",
    "    lr = 0.5\n",
    "    if output * label <= 0:\n",
    "        wtmp = w_vec + lr*label*x_vec\n",
    "        return wtmp\n",
    "    else:\n",
    "        return w_vec\n",
    "\n",
    "def create_dataset(item_num):\n",
    "    x1_1=np.ones(int(item_num/2))+10*np.random.random(int(item_num/2))\n",
    "    x1_2=np.ones(int(item_num/2))+10*np.random.random(int(item_num/2))\n",
    "    x2_1=-np.ones(int(item_num/2))-10*np.random.random(int(item_num/2))\n",
    "    x2_2=-np.ones(int(item_num/2))-10*np.random.random(int(item_num/2))\n",
    "    z=np.ones(int(item_num/2)) # バイアス項、今回は1に固定\n",
    "    return np.c_[x1_1,x1_2,z], np.c_[x2_1,x2_2,z]\n",
    "\n",
    "if __name__ == \"__main__\":\n",
    "    train_data = 100 # 学習データ\n",
    "    loop_num   = 1000 # 学習回数\n",
    "    init_w_vec = [1, -1, 1] # 重みベクトルの適当な初期値\n",
    "\n",
    "    x1,x2 = create_dataset(train_data)\n",
    "\n",
    "    class_x=np.array(np.r_[x1,x2])\n",
    "\n",
    "    # 教師ラベルを1 or -1で振って1つのベクトルにまとめる\n",
    "    label1=np.ones(int(train_data/2))\n",
    "    label2=-1*np.ones(int(train_data/2))\n",
    "    label_x=np.array(np.r_[label1,label2])\n",
    "\n",
    "    wvec=np.vstack((init_w_vec,init_w_vec))\n",
    "\n",
    "    # ループ回数の分だけ繰り返しつつ、重みベクトルを学習させる\n",
    "    for j in range(loop_num):\n",
    "        for i in range(train_data):\n",
    "            wvec_new=train(wvec[-1],class_x[i,:],label_x[i])\n",
    "            wvec=np.vstack((wvec,wvec_new))\n",
    "    w=wvec[-1] # 重みベクトルを垂直に足していった最後のものを採用する\n",
    "\n",
    "    # print(w)\n",
    "\n",
    "    # 分離直線を引く\n",
    "    x_fig=range(-15,16)\n",
    "    y_fig=[-(w[0]/w[1])*xi-(w[2]/w[1]) for xi in x_fig]\n",
    "\n",
    "    # プロット\n",
    "    plt.scatter(x1[:,0],x1[:,1],marker='o',color='g',s=100)\n",
    "    plt.scatter(x2[:,0],x2[:,1],marker='s',color='b',s=100)\n",
    "    plt.plot(x_fig,y_fig)\n",
    "    plt.show()"
   ]
  },
  {
   "cell_type": "code",
   "execution_count": null,
   "metadata": {},
   "outputs": [],
   "source": []
  }
 ],
 "metadata": {
  "kernelspec": {
   "display_name": "Python 3",
   "language": "python",
   "name": "python3"
  },
  "language_info": {
   "codemirror_mode": {
    "name": "ipython",
    "version": 3
   },
   "file_extension": ".py",
   "mimetype": "text/x-python",
   "name": "python",
   "nbconvert_exporter": "python",
   "pygments_lexer": "ipython3",
   "version": "3.7.4"
  }
 },
 "nbformat": 4,
 "nbformat_minor": 4
}
