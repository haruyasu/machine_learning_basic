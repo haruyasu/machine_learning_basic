{
 "cells": [
  {
   "cell_type": "markdown",
   "metadata": {},
   "source": [
    "# K-means クラスタリング"
   ]
  },
  {
   "cell_type": "markdown",
   "metadata": {},
   "source": [
    "クラスタリング  \n",
    "今までの学習は、教師あり学習と呼ばれ正解ラベルがあるデータを分類するものでした。  \n",
    "今回は、教師なし学習のクラスタリングについて学習します。  \n",
    "  \n",
    "まず初めにクラス分類とクラスタリングの違いを説明します。  \n",
    "クラス分類は「教師あり学習」で、クラスタリングは「教師なし学習」になります。  \n",
    "  \n",
    "クラス分類では事前に決まっている分類を新しいデータに当てはめて考える手法で、クラスタリングは、データの中で似たものの集まりを見つける手法です。  \n",
    "  \n",
    "クラスタリングとは、正解ラベルがないデータに対しいくつかのグループ（クラスタ）に分けるものです。  \n",
    "クラスタリングは、代表的な教師なし学習手法で、多変量のサンプルデータが大量にある場合や、どういった傾向のクラスタに分割できるかが不明な場合に、クラスタリングすることで、全体のサンプルの中でクラスタを分割することが出来る手法になります。  \n",
    "例として、顧客のセグメント化や遺伝子の発現パターンなどがあります。  \n",
    "  \n",
    "K-meansとは  \n",
    "K-meansとは、クラスタリングのアルゴリズムの一種で実行速度が速く拡張性があるという特徴があります。  \n",
    "K-meansのKはクラスタの数を示すハイパーパラメータです。  \n",
    "Kは必ずデータの数より小さい値に設定します。  \n",
    "なぜ「Kがデータは数より少なく設定するのか」ですが、クラスの数＜データ数として、分類をするためです。  \n",
    "決まった値がなく不明瞭ですが、様々な求める手法があります。"
   ]
  },
  {
   "cell_type": "code",
   "execution_count": 5,
   "metadata": {},
   "outputs": [
    {
     "data": {
      "image/png": "[encoded data removed]",
      "text/plain": [
       "<Figure size 432x288 with 1 Axes>"
      ]
     },
     "metadata": {
      "needs_background": "light"
     },
     "output_type": "display_data"
    }
   ],
   "source": [
    "import numpy as np\n",
    "from sklearn.cluster import KMeans\n",
    "from sklearn import metrics\n",
    "import matplotlib.pyplot as plt\n",
    "\n",
    "x1 = np.array([1,2,3,1,5,6,5,5,6,7,8,9,7,9])\n",
    "x2 = np.array([1,3,2,2,8,6,7,6,7,1,2,1,1,3])\n",
    "\n",
    "#1次元目をx1，2次元目をx2とする行列を作成\n",
    "x = np.c_[x1, x2]\n",
    "\n",
    "#x軸とy軸の幅を設定する\n",
    "plt.xlim([0, 10])\n",
    "plt.ylim([0, 10])\n",
    "plt.title('data')\n",
    "#散布図を作成\n",
    "plt.scatter(x1, x2)\n",
    "plt.show()"
   ]
  },
  {
   "cell_type": "code",
   "execution_count": 6,
   "metadata": {},
   "outputs": [
    {
     "name": "stdout",
     "output_type": "stream",
     "text": [
      "[0 0 0 0 2 2 2 2 2 1 1 1 1 1]\n"
     ]
    }
   ],
   "source": [
    "kmeans = KMeans(n_clusters=3)\n",
    "kmeans_model = kmeans.fit(x)\n",
    "print(kmeans_model.labels_)"
   ]
  },
  {
   "cell_type": "code",
   "execution_count": 7,
   "metadata": {},
   "outputs": [
    {
     "data": {
      "image/png": "[encoded data removed]",
      "text/plain": [
       "<Figure size 432x288 with 1 Axes>"
      ]
     },
     "metadata": {
      "needs_background": "light"
     },
     "output_type": "display_data"
    }
   ],
   "source": [
    "# 色とマーカーの形を設定\n",
    "colors = ['b','g','y']\n",
    "markers = ['o','s','D']\n",
    "\n",
    "for i, l in enumerate(kmeans_model.labels_):\n",
    "    plt.plot(x1[i],x2[i], color=colors[l],marker=markers[l], ls='None')\n",
    "    plt.xlim([0, 10])\n",
    "    plt.ylim([0, 10])\n",
    "plt.show()"
   ]
  },
  {
   "cell_type": "code",
   "execution_count": null,
   "metadata": {},
   "outputs": [],
   "source": []
  }
 ],
 "metadata": {
  "kernelspec": {
   "display_name": "Python 3",
   "language": "python",
   "name": "python3"
  },
  "language_info": {
   "codemirror_mode": {
    "name": "ipython",
    "version": 3
   },
   "file_extension": ".py",
   "mimetype": "text/x-python",
   "name": "python",
   "nbconvert_exporter": "python",
   "pygments_lexer": "ipython3",
   "version": "3.7.4"
  }
 },
 "nbformat": 4,
 "nbformat_minor": 4
}
