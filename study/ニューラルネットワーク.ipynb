{
 "cells": [
  {
   "cell_type": "markdown",
   "metadata": {},
   "source": [
    "# ニューラルネットワーク"
   ]
  },
  {
   "cell_type": "markdown",
   "metadata": {},
   "source": [
    "分類問題では、neural_network.MLPClassifier()を利用し、  \n",
    "回帰問題ではneural_network.MLPRegressor()を利用します。"
   ]
  },
  {
   "cell_type": "code",
   "execution_count": 2,
   "metadata": {},
   "outputs": [],
   "source": [
    "from sklearn.neural_network import MLPClassifier  # 分類\n",
    "from sklearn.neural_network import MLPRegressor # 回帰"
   ]
  },
  {
   "cell_type": "markdown",
   "metadata": {},
   "source": [
    "# ニューラルネットワーク＜分類＞"
   ]
  },
  {
   "cell_type": "code",
   "execution_count": 3,
   "metadata": {},
   "outputs": [
    {
     "name": "stdout",
     "output_type": "stream",
     "text": [
      "train_result:  0.9809523809523809\n",
      "test_result:  0.9555555555555556\n",
      "              precision    recall  f1-score   support\n",
      "\n",
      "           0       1.00      1.00      1.00        16\n",
      "           1       1.00      0.89      0.94        18\n",
      "           2       0.85      1.00      0.92        11\n",
      "\n",
      "    accuracy                           0.96        45\n",
      "   macro avg       0.95      0.96      0.95        45\n",
      "weighted avg       0.96      0.96      0.96        45\n",
      "\n"
     ]
    }
   ],
   "source": [
    "from sklearn.datasets import load_iris\n",
    "from sklearn.model_selection import train_test_split\n",
    "from sklearn.neural_network import MLPClassifier\n",
    "from sklearn.metrics import classification_report, accuracy_score\n",
    "\n",
    "# データ取得\n",
    "iris = load_iris()\n",
    "x, y = iris.data, iris.target\n",
    "\n",
    "# 訓練データとテストデータに分割\n",
    "x_train, x_test, y_train, y_test = train_test_split(x, y, test_size=0.3, random_state=0)\n",
    "\n",
    "# solverには確率的勾配降下法(sgd)やadamなどが利用可能です。\n",
    "model = MLPClassifier(solver=\"sgd\", random_state=0, max_iter=3000)\n",
    "\n",
    "# 学習\n",
    "model.fit(x_train, y_train)\n",
    "pred = model.predict(x_test)\n",
    "\n",
    "# 予測精度\n",
    "print(\"train_result: \", model.score(x_train, y_train))\n",
    "print(\"test_result: \", model.score(x_test, y_test))\n",
    "print(classification_report(y_test, pred))"
   ]
  },
  {
   "cell_type": "markdown",
   "metadata": {},
   "source": [
    "# ニューラルネットワーク＜回帰＞"
   ]
  },
  {
   "cell_type": "code",
   "execution_count": 5,
   "metadata": {},
   "outputs": [
    {
     "name": "stdout",
     "output_type": "stream",
     "text": [
      "0.25693747138244105\n"
     ]
    },
    {
     "name": "stderr",
     "output_type": "stream",
     "text": [
      "c:\\users\\haruk\\anaconda3\\envs\\dev\\lib\\site-packages\\sklearn\\neural_network\\multilayer_perceptron.py:566: ConvergenceWarning: Stochastic Optimizer: Maximum iterations (200) reached and the optimization hasn't converged yet.\n",
      "  % self.max_iter, ConvergenceWarning)\n"
     ]
    },
    {
     "data": {
      "image/png": "[encoded data removed]",
      "text/plain": [
       "<Figure size 432x288 with 1 Axes>"
      ]
     },
     "metadata": {
      "needs_background": "light"
     },
     "output_type": "display_data"
    }
   ],
   "source": [
    "import pandas as pd\n",
    "import numpy as np\n",
    "import datetime as dt\n",
    "from sklearn.datasets import load_boston\n",
    "from sklearn.neural_network import MLPRegressor\n",
    "from sklearn.model_selection import train_test_split\n",
    "from sklearn.preprocessing import StandardScaler\n",
    "from sklearn.datasets import load_boston\n",
    "import matplotlib.pyplot as plt\n",
    "from pandas import DataFrame\n",
    "%matplotlib inline\n",
    "\n",
    "boston = load_boston()\n",
    "\n",
    "X = boston.data[:, 5].reshape(-1, 1)\n",
    "y = boston.target\n",
    "\n",
    "X_train, X_test, y_train, y_test = train_test_split(X, y, test_size=0.3, random_state=0)\n",
    "\n",
    "model = MLPRegressor(random_state=0)\n",
    "model.fit(X_train, y_train)\n",
    "print(model.score(X_test,y_test))\n",
    "\n",
    "result = model.predict(X_test)\n",
    "\n",
    "plt.scatter(X_train, y_train, c=\"b\", alpha=0.5)\n",
    "plt.plot(X_test, result, c=\"r\")\n",
    "plt.title(\"Boston House Prices datase: \")\n",
    "plt.xlabel(\"rooms\")\n",
    "plt.ylabel(\"price $1000's\")\n",
    "plt.show()"
   ]
  },
  {
   "cell_type": "markdown",
   "metadata": {},
   "source": [
    "# データの標準化"
   ]
  },
  {
   "cell_type": "markdown",
   "metadata": {},
   "source": [
    "標準化とは元のデータの平均を0、標準偏差が1のものへと変換する正規化法のことを指します。  \n",
    "標準化を行うには、sklearn.preprocessingのStandardScaler関数を使います。"
   ]
  },
  {
   "cell_type": "code",
   "execution_count": 6,
   "metadata": {},
   "outputs": [],
   "source": [
    "# データの標準化を行うために必要\n",
    "from sklearn.preprocessing import StandardScaler"
   ]
  },
  {
   "cell_type": "code",
   "execution_count": 7,
   "metadata": {},
   "outputs": [
    {
     "name": "stdout",
     "output_type": "stream",
     "text": [
      "[1. 1. 1. 1.]\n",
      "訓練データ:  1.0\n",
      "テストデータ:  0.9777777777777777\n"
     ]
    }
   ],
   "source": [
    "# データの標準化を行うために必要\n",
    "from sklearn.preprocessing import StandardScaler\n",
    "from sklearn.datasets import load_iris\n",
    "from sklearn.model_selection import train_test_split\n",
    "from sklearn.neural_network import MLPClassifier\n",
    "from sklearn.metrics import classification_report, accuracy_score\n",
    "\n",
    "# データ取得\n",
    "iris = load_iris()\n",
    "x, y = iris.data, iris.target\n",
    "\n",
    "# 訓練データとテストデータに分割\n",
    "x_train, x_test, y_train, y_test = train_test_split(x, y, test_size=0.3, random_state=0)\n",
    "\n",
    "\n",
    "scaler = StandardScaler()\n",
    "scaler.fit(x_train)\n",
    "\n",
    "# 標準化\n",
    "X_train_scaled = scaler.transform(x_train)\n",
    "X_test_scaled  = scaler.transform(x_test)\n",
    "\n",
    "import scipy\n",
    "std = scipy.std(X_train_scaled, axis=0) # 訓練データの説明変数の標準偏差が1になっているか確認\n",
    "print(std)\n",
    "\n",
    "# 入力層・隠れ層・出力層合わせて4層のニューラルネットワークを実装 (隠れ層が2層で各々の隠れ層には100個のニューロンを設定)\n",
    "# alpha=0.07で正則化の強度の指定\n",
    "# max_iter=10000は最大繰り返し回数\n",
    "# 活性化関数はReLUがでフォルダで、パラメタの推定アルゴリズムにはAdamがデフォルト\n",
    "model = MLPClassifier(hidden_layer_sizes=(100,100), alpha=0.07, \n",
    "                     max_iter=10000, random_state=0)\n",
    "model.fit(X_train_scaled, y_train)\n",
    "print(\"訓練データ: \", model.score(X_train_scaled, y_train))\n",
    "print(\"テストデータ: \", model.score(X_test_scaled, y_test))"
   ]
  },
  {
   "cell_type": "code",
   "execution_count": null,
   "metadata": {},
   "outputs": [],
   "source": []
  }
 ],
 "metadata": {
  "kernelspec": {
   "display_name": "Python 3",
   "language": "python",
   "name": "python3"
  },
  "language_info": {
   "codemirror_mode": {
    "name": "ipython",
    "version": 3
   },
   "file_extension": ".py",
   "mimetype": "text/x-python",
   "name": "python",
   "nbconvert_exporter": "python",
   "pygments_lexer": "ipython3",
   "version": "3.7.4"
  }
 },
 "nbformat": 4,
 "nbformat_minor": 4
}
