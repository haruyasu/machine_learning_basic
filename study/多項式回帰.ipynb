{
 "cells": [
  {
   "cell_type": "markdown",
   "metadata": {},
   "source": [
    "# 多項式回帰"
   ]
  },
  {
   "cell_type": "code",
   "execution_count": 1,
   "metadata": {},
   "outputs": [],
   "source": [
    "import numpy as np\n",
    "import matplotlib.pyplot as plt\n",
    "\n",
    "x = np.array([-1.2, -0.6, 0.0, 0.6, 1.2, 1.8, 2.4, 3.0, 3.6, 4.2])\n",
    "y = np.cos(x)"
   ]
  },
  {
   "cell_type": "code",
   "execution_count": 2,
   "metadata": {},
   "outputs": [
    {
     "name": "stdout",
     "output_type": "stream",
     "text": [
      "[ 0.10204287 -0.4773402  -0.14803308  1.00894581]\n",
      "       3          2\n",
      "0.102 x - 0.4773 x - 0.148 x + 1.009\n"
     ]
    }
   ],
   "source": [
    "# 3次元（y=a0+a1x1+a2x^2+a3x^3)まで考えた回帰分析\n",
    "z = np.polyfit(x, y, 3)\n",
    "print(z)\n",
    "p = np.poly1d(z)\n",
    "print(p)"
   ]
  },
  {
   "cell_type": "code",
   "execution_count": 8,
   "metadata": {},
   "outputs": [
    {
     "name": "stderr",
     "output_type": "stream",
     "text": [
      "c:\\users\\haruk\\anaconda3\\envs\\dev\\lib\\site-packages\\ipykernel_launcher.py:2: RankWarning: Polyfit may be poorly conditioned\n",
      "  \n"
     ]
    }
   ],
   "source": [
    "# 30次元（y=a0+a1x1+a2x^2+...+a30x^30)まで考えた回帰分析\n",
    "z30 = np.polyfit(x, y, 30)\n",
    "p30 = np.poly1d(z30)"
   ]
  },
  {
   "cell_type": "code",
   "execution_count": 9,
   "metadata": {},
   "outputs": [
    {
     "data": {
      "image/png": "[encoded data removed]",
      "text/plain": [
       "<Figure size 432x288 with 1 Axes>"
      ]
     },
     "metadata": {
      "needs_background": "light"
     },
     "output_type": "display_data"
    },
    {
     "data": {
      "text/plain": [
       "<Figure size 432x288 with 0 Axes>"
      ]
     },
     "metadata": {},
     "output_type": "display_data"
    }
   ],
   "source": [
    "# ２から５で等間隔に100等分した値を配列に格納\n",
    "xp = np.linspace(-2, 5, 100)\n",
    "\n",
    "# プロットする\n",
    "# テストデータは緑の線、　pは青の点、　p30は*で記す\n",
    "plt.plot(xp, np.cos(xp), '.', xp, p(xp), '-', xp, p30(xp), '*')\n",
    "plt.ylim(-3,3)\n",
    "plt.grid(True) #grid線\n",
    "plt.show()\n",
    "plt.savefig('./result/image.png')"
   ]
  },
  {
   "cell_type": "code",
   "execution_count": null,
   "metadata": {},
   "outputs": [],
   "source": []
  }
 ],
 "metadata": {
  "kernelspec": {
   "display_name": "Python 3",
   "language": "python",
   "name": "python3"
  },
  "language_info": {
   "codemirror_mode": {
    "name": "ipython",
    "version": 3
   },
   "file_extension": ".py",
   "mimetype": "text/x-python",
   "name": "python",
   "nbconvert_exporter": "python",
   "pygments_lexer": "ipython3",
   "version": "3.7.4"
  }
 },
 "nbformat": 4,
 "nbformat_minor": 4
}
