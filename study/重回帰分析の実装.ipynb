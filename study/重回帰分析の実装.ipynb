{
 "cells": [
  {
   "cell_type": "markdown",
   "metadata": {},
   "source": [
    "# 行列演算の基礎"
   ]
  },
  {
   "cell_type": "markdown",
   "metadata": {},
   "source": [
    "$\\boldsymbol{w} = (\\boldsymbol{X}^{T}\\boldsymbol{X})^{-1}\\boldsymbol{X}^{T}\\boldsymbol{y}$"
   ]
  },
  {
   "cell_type": "markdown",
   "metadata": {},
   "source": [
    "- ベクトルの定義\n",
    "- 行例の定義\n",
    "- 転置\n",
    "- 逆行列\n",
    "- 行列積"
   ]
  },
  {
   "cell_type": "code",
   "execution_count": 10,
   "metadata": {},
   "outputs": [],
   "source": [
    "import numpy as np"
   ]
  },
  {
   "cell_type": "code",
   "execution_count": 11,
   "metadata": {},
   "outputs": [
    {
     "name": "stdout",
     "output_type": "stream",
     "text": [
      "[[1]\n",
      " [2]\n",
      " [3]]\n"
     ]
    }
   ],
   "source": [
    "# ベクトルの定義\n",
    "x = np.array([[1], [2], [3]])\n",
    "print(x)"
   ]
  },
  {
   "cell_type": "code",
   "execution_count": 12,
   "metadata": {},
   "outputs": [
    {
     "name": "stdout",
     "output_type": "stream",
     "text": [
      "[[1 2]\n",
      " [3 4]]\n"
     ]
    }
   ],
   "source": [
    "# 行列の定義\n",
    "X = np.array([[1, 2], [3, 4]])\n",
    "print(X)"
   ]
  },
  {
   "cell_type": "code",
   "execution_count": 13,
   "metadata": {},
   "outputs": [
    {
     "name": "stdout",
     "output_type": "stream",
     "text": [
      "[[1 3]\n",
      " [2 4]]\n"
     ]
    }
   ],
   "source": [
    "# 転置\n",
    "Xt = X.T\n",
    "print(Xt)"
   ]
  },
  {
   "cell_type": "code",
   "execution_count": 14,
   "metadata": {},
   "outputs": [
    {
     "name": "stdout",
     "output_type": "stream",
     "text": [
      "[[-2.   1. ]\n",
      " [ 1.5 -0.5]]\n"
     ]
    }
   ],
   "source": [
    "# 逆行列\n",
    "# linear algebra: 線形代数\n",
    "X_inv = np.linalg.inv(X)\n",
    "print(X_inv)"
   ]
  },
  {
   "cell_type": "code",
   "execution_count": 15,
   "metadata": {},
   "outputs": [
    {
     "name": "stdout",
     "output_type": "stream",
     "text": [
      "[[1.00000000e+00 1.11022302e-16]\n",
      " [0.00000000e+00 1.00000000e+00]]\n"
     ]
    }
   ],
   "source": [
    "# 行列積\n",
    "XX_inv = np.dot(X, X_inv)\n",
    "print(XX_inv)"
   ]
  },
  {
   "cell_type": "markdown",
   "metadata": {},
   "source": [
    "# よくある間違い"
   ]
  },
  {
   "cell_type": "code",
   "execution_count": 16,
   "metadata": {},
   "outputs": [],
   "source": [
    "x = np.array([1, 2, 3])"
   ]
  },
  {
   "cell_type": "code",
   "execution_count": 17,
   "metadata": {},
   "outputs": [
    {
     "data": {
      "text/plain": [
       "array([1, 2, 3])"
      ]
     },
     "execution_count": 17,
     "metadata": {},
     "output_type": "execute_result"
    }
   ],
   "source": [
    "x.T"
   ]
  },
  {
   "cell_type": "code",
   "execution_count": 18,
   "metadata": {},
   "outputs": [
    {
     "data": {
      "text/plain": [
       "array([[1],\n",
       "       [2],\n",
       "       [3]])"
      ]
     },
     "execution_count": 18,
     "metadata": {},
     "output_type": "execute_result"
    }
   ],
   "source": [
    "x = np.array([[1, 2, 3]])\n",
    "x.T"
   ]
  },
  {
   "cell_type": "markdown",
   "metadata": {},
   "source": [
    "# Numpyでよく使う処理"
   ]
  },
  {
   "cell_type": "code",
   "execution_count": 19,
   "metadata": {},
   "outputs": [],
   "source": [
    "X = np.array([\n",
    "    [2, 3, 4],\n",
    "    [1, 2, 3]\n",
    "])"
   ]
  },
  {
   "cell_type": "code",
   "execution_count": 20,
   "metadata": {},
   "outputs": [],
   "source": [
    "row, col = X.shape"
   ]
  },
  {
   "cell_type": "code",
   "execution_count": 21,
   "metadata": {},
   "outputs": [
    {
     "name": "stdout",
     "output_type": "stream",
     "text": [
      "2 3\n"
     ]
    }
   ],
   "source": [
    "print(row, col)"
   ]
  },
  {
   "cell_type": "code",
   "execution_count": 22,
   "metadata": {},
   "outputs": [
    {
     "name": "stdout",
     "output_type": "stream",
     "text": [
      "[2 3 4]\n",
      "--\n",
      "[1 2 3]\n",
      "--\n"
     ]
    }
   ],
   "source": [
    "for x in X:\n",
    "    print(x)\n",
    "    print('--')"
   ]
  },
  {
   "cell_type": "markdown",
   "metadata": {},
   "source": [
    "# 演習問題"
   ]
  },
  {
   "cell_type": "markdown",
   "metadata": {},
   "source": [
    "$\\boldsymbol{X} = \\begin{bmatrix}\n",
    "1 & 2 & 3 \\\\\n",
    "1 & 2 & 5 \\\\\n",
    "1 & 2 & 4 \\\\\n",
    "1 & 5 & 9 \\\\\n",
    "\\end{bmatrix}\n",
    ",\\ \\boldsymbol{y} = \\begin{bmatrix}\n",
    "1 \\\\\n",
    "5 \\\\\n",
    "6 \\\\\n",
    "8 \\\\\n",
    "\\end{bmatrix}\n",
    "$のとき\n",
    "\n",
    "$\\boldsymbol{w} = (\\boldsymbol{X}^{T}\\boldsymbol{X})^{-1}\\boldsymbol{X}^{T}\\boldsymbol{y}$"
   ]
  },
  {
   "cell_type": "code",
   "execution_count": 23,
   "metadata": {},
   "outputs": [
    {
     "name": "stdout",
     "output_type": "stream",
     "text": [
      "[[1 2 3]\n",
      " [1 2 5]\n",
      " [1 3 4]\n",
      " [1 5 9]]\n"
     ]
    }
   ],
   "source": [
    "# Xの定義\n",
    "X = np.array([\n",
    "    [1, 2, 3],\n",
    "    [1, 2, 5],\n",
    "    [1, 3, 4],\n",
    "    [1, 5, 9]\n",
    "])\n",
    "print(X)"
   ]
  },
  {
   "cell_type": "code",
   "execution_count": 24,
   "metadata": {},
   "outputs": [
    {
     "name": "stdout",
     "output_type": "stream",
     "text": [
      "[[1]\n",
      " [5]\n",
      " [6]\n",
      " [8]]\n"
     ]
    }
   ],
   "source": [
    "y = np.array([\n",
    "    [1],\n",
    "    [5],\n",
    "    [6],\n",
    "    [8]\n",
    "])\n",
    "print(y)"
   ]
  },
  {
   "cell_type": "code",
   "execution_count": 25,
   "metadata": {},
   "outputs": [
    {
     "name": "stdout",
     "output_type": "stream",
     "text": [
      "[[  4  12  21]\n",
      " [ 12  42  73]\n",
      " [ 21  73 131]]\n"
     ]
    }
   ],
   "source": [
    "# Step 1\n",
    "XtX = np.dot(X.T, X)\n",
    "print(XtX)"
   ]
  },
  {
   "cell_type": "code",
   "execution_count": 26,
   "metadata": {},
   "outputs": [
    {
     "name": "stdout",
     "output_type": "stream",
     "text": [
      "[[ 1.76530612 -0.39795918 -0.06122449]\n",
      " [-0.39795918  0.84693878 -0.40816327]\n",
      " [-0.06122449 -0.40816327  0.24489796]]\n"
     ]
    }
   ],
   "source": [
    "# Step 2\n",
    "XtX_inv = np.linalg.inv(XtX)\n",
    "print(XtX_inv)"
   ]
  },
  {
   "cell_type": "code",
   "execution_count": 27,
   "metadata": {},
   "outputs": [
    {
     "name": "stdout",
     "output_type": "stream",
     "text": [
      "[[ 20]\n",
      " [ 70]\n",
      " [124]]\n"
     ]
    }
   ],
   "source": [
    "# Step 3\n",
    "Xty = np.dot(X.T, y)\n",
    "print(Xty)"
   ]
  },
  {
   "cell_type": "code",
   "execution_count": 28,
   "metadata": {},
   "outputs": [
    {
     "name": "stdout",
     "output_type": "stream",
     "text": [
      "[[-0.14285714]\n",
      " [ 0.71428571]\n",
      " [ 0.57142857]]\n"
     ]
    }
   ],
   "source": [
    "# Step 4\n",
    "w = np.dot(XtX_inv, Xty)\n",
    "print(w)"
   ]
  },
  {
   "cell_type": "markdown",
   "metadata": {},
   "source": [
    "# Scikit-learnでの実装"
   ]
  },
  {
   "cell_type": "code",
   "execution_count": 29,
   "metadata": {},
   "outputs": [],
   "source": [
    "import sklearn"
   ]
  },
  {
   "cell_type": "code",
   "execution_count": 30,
   "metadata": {},
   "outputs": [],
   "source": [
    "# 重回帰分析の読み込み"
   ]
  },
  {
   "cell_type": "code",
   "execution_count": 31,
   "metadata": {},
   "outputs": [],
   "source": [
    "from sklearn.linear_model import LinearRegression"
   ]
  },
  {
   "cell_type": "code",
   "execution_count": 36,
   "metadata": {},
   "outputs": [],
   "source": [
    "# モデルの宣言\n",
    "model = LinearRegression(fit_intercept=False)"
   ]
  },
  {
   "cell_type": "code",
   "execution_count": 37,
   "metadata": {},
   "outputs": [
    {
     "data": {
      "text/plain": [
       "LinearRegression(copy_X=True, fit_intercept=False, n_jobs=None, normalize=False)"
      ]
     },
     "execution_count": 37,
     "metadata": {},
     "output_type": "execute_result"
    }
   ],
   "source": [
    "# モデルの学習　パラメータの調整\n",
    "model.fit(X, y)"
   ]
  },
  {
   "cell_type": "code",
   "execution_count": 38,
   "metadata": {},
   "outputs": [
    {
     "data": {
      "text/plain": [
       "array([[-0.14285714,  0.71428571,  0.57142857]])"
      ]
     },
     "execution_count": 38,
     "metadata": {},
     "output_type": "execute_result"
    }
   ],
   "source": [
    "# 調整後のパラメータ\n",
    "model.coef_"
   ]
  },
  {
   "cell_type": "code",
   "execution_count": 39,
   "metadata": {},
   "outputs": [
    {
     "data": {
      "text/plain": [
       "0.0"
      ]
     },
     "execution_count": 39,
     "metadata": {},
     "output_type": "execute_result"
    }
   ],
   "source": [
    "model.intercept_"
   ]
  },
  {
   "cell_type": "code",
   "execution_count": 43,
   "metadata": {},
   "outputs": [
    {
     "data": {
      "text/plain": [
       "0.6923076923076923"
      ]
     },
     "execution_count": 43,
     "metadata": {},
     "output_type": "execute_result"
    }
   ],
   "source": [
    "# 予測精度　決定件数\n",
    "model.score(X, y)"
   ]
  },
  {
   "cell_type": "code",
   "execution_count": 44,
   "metadata": {},
   "outputs": [],
   "source": [
    "# 予測値の計算\n",
    "x = np.array([\n",
    "    [1, 2, 3]\n",
    "])"
   ]
  },
  {
   "cell_type": "code",
   "execution_count": 47,
   "metadata": {},
   "outputs": [
    {
     "data": {
      "text/plain": [
       "array([[3.]])"
      ]
     },
     "execution_count": 47,
     "metadata": {},
     "output_type": "execute_result"
    }
   ],
   "source": [
    "y_pred = model.predict(x)\n",
    "y_pred"
   ]
  },
  {
   "cell_type": "markdown",
   "metadata": {},
   "source": [
    "# AI Academy"
   ]
  },
  {
   "cell_type": "code",
   "execution_count": 3,
   "metadata": {},
   "outputs": [
    {
     "data": {
      "image/png": "[encoded data removed]",
      "text/plain": [
       "<Figure size 432x288 with 1 Axes>"
      ]
     },
     "metadata": {
      "needs_background": "light"
     },
     "output_type": "display_data"
    }
   ],
   "source": [
    "import numpy as np\n",
    "import matplotlib.pyplot as plt\n",
    "\n",
    "train_xy = np.loadtxt(\"csv/download_cost.csv\", delimiter=',', skiprows=1)\n",
    "train_x = train_xy[:,0]\n",
    "train_y = train_xy[:,1]\n",
    "\n",
    "plt.plot(train_x, train_y, 'o')\n",
    "plt.title(\"download per cost\")\n",
    "plt.xlabel(\"cost\")\n",
    "plt.ylabel(\"download\")\n",
    "plt.show()"
   ]
  },
  {
   "cell_type": "code",
   "execution_count": 4,
   "metadata": {},
   "outputs": [],
   "source": [
    "theta0=np.random.rand()\n",
    "theta1=np.random.rand()\n",
    "\n",
    "def f(x):\n",
    "    return theta0 + theta1 * x\n",
    "\n",
    "def E(x,y):\n",
    "    return 0.5 * np.sum((y-f(x)) ** 2)"
   ]
  },
  {
   "cell_type": "code",
   "execution_count": 5,
   "metadata": {},
   "outputs": [
    {
     "data": {
      "image/png": "[encoded data removed]",
      "text/plain": [
       "<Figure size 432x288 with 1 Axes>"
      ]
     },
     "metadata": {
      "needs_background": "light"
     },
     "output_type": "display_data"
    }
   ],
   "source": [
    "mu_x = train_x.mean()\n",
    "sigma_x = train_x.std()\n",
    "\n",
    "mu_y = train_y.mean()\n",
    "sigma_y = train_y.std()\n",
    "\n",
    "def standardize(a,mu,sigma):\n",
    "    return (a - mu) / sigma\n",
    "\n",
    "standardized_x = standardize(train_x,  mu_x, sigma_x)\n",
    "standardized_y = standardize(train_y, mu_y, sigma_y)\n",
    "\n",
    "plt.plot(standardized_x , standardized_y , 'o')\n",
    "plt.xlabel(\"standardized cost\")\n",
    "plt.ylabel(\"standardized download\")\n",
    "plt.show()"
   ]
  },
  {
   "cell_type": "code",
   "execution_count": 6,
   "metadata": {},
   "outputs": [
    {
     "name": "stdout",
     "output_type": "stream",
     "text": [
      "1回目のtheta0: 0.9149819717744788, theta1: 0.4299640992311756, diff: 0.6037721329767045\n",
      "2回目のtheta0: 0.8930224044518913, theta1: 0.4399591849422422, diff: 0.5751388433424172\n",
      "3回目のtheta0: 0.8715898667450459, theta1: 0.44971438859624313, diff: 0.5478634588357476\n",
      "4回目のtheta0: 0.8506717099431648, theta1: 0.45923546736254806, diff: 0.5218815821639211\n",
      "5回目のtheta0: 0.8302555889045288, theta1: 0.4685280402384617, diff: 0.4971318700113798\n",
      "6回目のtheta0: 0.8103294547708201, theta1: 0.4775975913653534, diff: 0.473555888207958\n",
      "7回目のtheta0: 0.7908815478563204, theta1: 0.4864494732651997, diff: 0.45109797376558447\n",
      "8回目のtheta0: 0.7719003907077687, theta1: 0.4950889099994497, diff: 0.42970510345772617\n",
      "9回目のtheta0: 0.7533747813307823, theta1: 0.5035210002520777, diff: 0.4093267686313471\n",
      "10回目のtheta0: 0.7352937865788435, theta1: 0.5117507203386426, diff: 0.389914855955773\n",
      "11回目のtheta0: 0.7176467357009513, theta1: 0.5197829271431299, diff: 0.37142353382692583\n",
      "12回目のtheta0: 0.7004232140441284, theta1: 0.5276223609843096, diff: 0.3538091441587188\n",
      "13回目のtheta0: 0.6836130569070693, theta1: 0.5352736484133009, diff: 0.33703009930613526\n",
      "14回目のtheta0: 0.6672063435412996, theta1: 0.5427413049439965, diff: 0.32104678387664265\n",
      "15回目のtheta0: 0.6511933912963084, theta1: 0.5500297377179554, diff: 0.30582146119807696\n",
      "16回目のtheta0: 0.635564749905197, theta1: 0.5571432481053392, diff: 0.29131818422221833\n",
      "17回目のtheta0: 0.6203111959074722, theta1: 0.5640860342434258, diff: 0.27750271065366405\n",
      "18回目のtheta0: 0.6054237272056928, theta1: 0.5708621935141984, diff: 0.26434242210362413\n",
      "19回目のtheta0: 0.5908935577527562, theta1: 0.5774757249624725, diff: 0.25180624707778243\n",
      "20回目のtheta0: 0.5767121123666901, theta1: 0.5839305316559879, diff: 0.23986458761636342\n",
      "21回目のtheta0: 0.5628710216698894, theta1: 0.590230422988859, diff: 0.2284892494132471\n",
      "22回目のtheta0: 0.5493621171498121, theta1: 0.5963791169297411, diff: 0.2176533752490739\n",
      "23回目のtheta0: 0.5361774263382166, theta1: 0.6023802422160421, diff: 0.20733138158125985\n",
      "24回目のtheta0: 0.5233091681060994, theta1: 0.608237340495472, diff: 0.19749889814115296\n",
      "25回目のtheta0: 0.510749748071553, theta1: 0.6139538684161954, diff: 0.18813271039570267\n",
      "26回目のtheta0: 0.49849175411783575, theta1: 0.6195331996668214, diff: 0.17921070473790124\n",
      "27回目のtheta0: 0.48652795201900767, theta1: 0.6249786269674324, diff: 0.17071181627640808\n",
      "28回目のtheta0: 0.4748512811705515, theta1: 0.6302933640128289, diff: 0.16261597910131798\n",
      "29回目のtheta0: 0.46345485042245826, theta1: 0.6354805473691357, diff: 0.15490407890841507\n",
      "30回目のtheta0: 0.45233193401231925, theta1: 0.6405432383248912, diff: 0.14755790787026246\n",
      "31回目のtheta0: 0.4414759675960236, theta1: 0.6454844246977086, diff: 0.14056012164742437\n",
      "32回目のtheta0: 0.43088054437371903, theta1: 0.6503070225975784, diff: 0.13389419843841566\n",
      "33回目のtheta0: 0.4205394113087498, theta1: 0.6550138781478514, diff: 0.12754439997167388\n",
      "34回目のtheta0: 0.41044646543733976, theta1: 0.6596077691649177, diff: 0.12149573434741523\n",
      "35回目のtheta0: 0.4005957502668436, theta1: 0.6640914067975745, diff: 0.11573392064172516\n",
      "36回目のtheta0: 0.39098145226043934, theta1: 0.6684674371270475, diff: 0.1102453551892113\n",
      "37回目のtheta0: 0.38159789740618877, theta1: 0.6727384427286132, diff: 0.1050170794647185\n",
      "38回目のtheta0: 0.37243954786844025, theta1: 0.6769069441957413, diff: 0.10003674948818286\n",
      "39回目のtheta0: 0.3635009987195977, theta1: 0.6809754016276582, diff: 0.0952926066804558\n",
      "40回目のtheta0: 0.3547769747503273, theta1: 0.6849462160812092, diff: 0.09077345010124205\n",
      "41回目のtheta0: 0.34626232735631945, theta1: 0.6888217309878749, diff: 0.08646861000364048\n",
      "42回目のtheta0: 0.33795203149976777, theta1: 0.6926042335367807, diff: 0.08236792264282755\n",
      "43回目のtheta0: 0.32984118274377333, theta1: 0.6962959560245128, diff: 0.07846170627941529\n",
      "44回目のtheta0: 0.32192499435792277, theta1: 0.6998990771725393, diff: 0.07474073832081896\n",
      "45回目のtheta0: 0.3141987944933326, theta1: 0.7034157234130132, diff: 0.07119623354669269\n",
      "46回目のtheta0: 0.30665802342549264, theta1: 0.7068479701437156, diff: 0.06781982336697556\n",
      "47回目のtheta0: 0.29929823086328083, theta1: 0.7101978429528812, diff: 0.06460353606361835\n",
      "48回目のtheta0: 0.2921150733225621, theta1: 0.7134673188146269, diff: 0.06153977796933763\n",
      "49回目のtheta0: 0.2851043115628206, theta1: 0.7166583272556907, diff: 0.058621315538920804\n",
      "50回目のtheta0: 0.2782618080853129, theta1: 0.7197727514941689, diff: 0.05584125827080122\n",
      "51回目のtheta0: 0.2715835246912654, theta1: 0.7228124295509236, diff: 0.05319304243856848\n",
      "52回目のtheta0: 0.265065520098675, theta1: 0.7257791553343163, diff: 0.050670415593962126\n",
      "53回目のtheta0: 0.25870394761630683, theta1: 0.7286746796989074, diff: 0.0482674218048329\n",
      "54回目のtheta0: 0.2524950528735155, theta1: 0.7315007114787484, diff: 0.045978387593160086\n",
      "55回目のtheta0: 0.2464351716045511, theta1: 0.7342589184958732, diff: 0.043797908539942476\n",
      "56回目のtheta0: 0.2405207274860419, theta1: 0.736950928544587, diff: 0.04172083652534475\n",
      "57回目のtheta0: 0.23474823002637688, theta1: 0.7395783303521317, diff: 0.03974226757396693\n",
      "58回目のtheta0: 0.22911427250574382, theta1: 0.7421426745162953, diff: 0.03785753027653893\n",
      "59回目のtheta0: 0.22361552996560596, theta1: 0.744645474420519, diff: 0.03606217476070395\n",
      "60回目のtheta0: 0.21824875724643142, theta1: 0.7470882071270413, diff: 0.0343519621848527\n",
      "61回目のtheta0: 0.21301078707251705, theta1: 0.749472314248607, diff: 0.032722854730197426\n",
      "62回目のtheta0: 0.20789852818277665, theta1: 0.7517992027992553, diff: 0.03117100606747325\n",
      "63回目のtheta0: 0.20290896350639, theta1: 0.754070246024688, diff: 0.02969275227572954\n",
      "64回目のtheta0: 0.19803914838223666, theta1: 0.7562867842127102, diff: 0.028284603191805147\n",
      "65回目のtheta0: 0.19328620882106298, theta1: 0.75845012548422, diff: 0.026943234170036412\n",
      "66回目のtheta0: 0.18864733980935747, theta1: 0.7605615465652135, diff: 0.025665478232757888\n",
      "67回目のtheta0: 0.18411980365393288, theta1: 0.7626222935402631, diff: 0.02444831859304708\n",
      "68回目のtheta0: 0.1797009283662385, theta1: 0.7646335825879116, diff: 0.02328888153209041\n",
      "69回目のtheta0: 0.17538810608544878, theta1: 0.7665966006984165, diff: 0.022184429614311885\n",
      "70回目のtheta0: 0.171178791539398, theta1: 0.7685125063742693, diff: 0.021132355224283028\n",
      "71回目のtheta0: 0.16707050054245243, theta1: 0.7703824303139016, diff: 0.020130174410126767\n",
      "72回目のtheta0: 0.16306080852943355, theta1: 0.7722074760789828, diff: 0.019175521018900632\n",
      "73回目のtheta0: 0.15914734912472714, theta1: 0.773988720745702, diff: 0.018266141110101497\n",
      "74回目のtheta0: 0.15532781274573368, theta1: 0.7757272155404199, diff: 0.01739988763409528\n",
      "75回目のtheta0: 0.15159994523983605, theta1: 0.7774239864600646, diff: 0.016574715362935866\n",
      "76回目のtheta0: 0.14796154655407998, theta1: 0.7790800348776379, diff: 0.01578867606156331\n",
      "77回目のtheta0: 0.14441046943678204, theta1: 0.7806963381331894, diff: 0.015039913888021061\n",
      "78回目のtheta0: 0.14094461817029927, theta1: 0.7822738501106077, diff: 0.014326661011795139\n",
      "79回目のtheta0: 0.1375619473342121, theta1: 0.7838135018005679, diff: 0.01364723343997154\n",
      "80回目のtheta0: 0.134260460598191, theta1: 0.785316201849969, diff: 0.013000027041313977\n",
      "81回目のtheta0: 0.1310382095438344, theta1: 0.7867828370981845, diff: 0.012383513758906783\n",
      "82回目のtheta0: 0.12789329251478238, theta1: 0.7882142731004429, diff: 0.011796238002404813\n",
      "83回目のtheta0: 0.1248238534944276, theta1: 0.7896113546386471, diff: 0.011236813211378482\n",
      "84回目のtheta0: 0.12182808101056133, theta1: 0.7909749062199343, diff: 0.010703918581642213\n",
      "85回目のtheta0: 0.11890420706630786, theta1: 0.7923057325632706, diff: 0.010196295946826694\n",
      "86回目のtheta0: 0.11605050609671647, theta1: 0.793604619074367, diff: 0.009712746807843953\n",
      "87回目のtheta0: 0.11326529395039527, theta1: 0.794872332309197, diff: 0.009252129503229067\n",
      "88回目のtheta0: 0.11054692689558578, theta1: 0.796109620426391, diff: 0.008813356513667436\n",
      "89回目のtheta0: 0.10789380065009171, theta1: 0.7973172136287724, diff: 0.008395391894363335\n",
      "90回目のtheta0: 0.1053043494344895, theta1: 0.7984958245942967, diff: 0.007997248829165304\n",
      "91回目のtheta0: 0.10277704504806176, theta1: 0.7996461488966483, diff: 0.007617987300691187\n",
      "92回目のtheta0: 0.10031039596690827, theta1: 0.8007688654157435, diff: 0.007256711870942123\n",
      "93回目のtheta0: 0.09790294646370247, theta1: 0.8018646367383805, diff: 0.006912569567176341\n",
      "94回目のtheta0: 0.09555327574857361, theta1: 0.8029341095492741, diff: 0.0065847478680218785\n",
      "95回目のtheta0: 0.09325999713060784, theta1: 0.8039779150127063, diff: 0.006272472785128436\n",
      "96回目のtheta0: 0.09102175719947325, theta1: 0.8049966691450161, diff: 0.0059750070357664775\n",
      "97回目のtheta0: 0.08883723502668589, theta1: 0.8059909731781505, diff: 0.005691648302102781\n",
      "98回目のtheta0: 0.08670514138604543, theta1: 0.8069614139144896, diff: 0.005421727573023283\n",
      "99回目のtheta0: 0.08462421799278033, theta1: 0.8079085640731566, diff: 0.005164607564600576\n",
      "100回目のtheta0: 0.0825932367609536, theta1: 0.8088329826280156, diff: 0.004919681215456162\n",
      "101回目のtheta0: 0.08061099907869071, theta1: 0.809735215137558, diff: 0.0046863702534949425\n",
      "102回目のtheta0: 0.07867633510080213, theta1: 0.8106157940668713, diff: 0.0044641238305942466\n",
      "103回目のtheta0: 0.07678810305838288, theta1: 0.8114752391018812, diff: 0.004252417222051719\n",
      "104回目のtheta0: 0.07494518858498168, theta1: 0.8123140574560509, diff: 0.004050750587711427\n",
      "105回目のtheta0: 0.07314650405894212, theta1: 0.8131327441697205, diff: 0.0038586477918416406\n",
      "106回目のtheta0: 0.0713909879615275, theta1: 0.8139317824022619, diff: 0.003675655278960299\n",
      "107回目のtheta0: 0.06967760425045083, theta1: 0.8147116437172225, diff: 0.003501341003011138\n",
      "108回目のtheta0: 0.06800534174844002, theta1: 0.815472788360624, diff: 0.0033352934072854445\n",
      "109回目のtheta0: 0.06637321354647745, theta1: 0.8162156655325837, diff: 0.0031771204527366592\n",
      "110回目のtheta0: 0.06478025642136198, theta1: 0.8169407136524165, diff: 0.003026448692386552\n",
      "111回目のtheta0: 0.0632255302672493, theta1: 0.8176483606173732, diff: 0.0028829223895998624\n",
      "112回目のtheta0: 0.06170811754083531, theta1: 0.818339024055171, diff: 0.002746202678194365\n",
      "113回目のtheta0: 0.06022712271985525, theta1: 0.8190131115704616, diff: 0.0026159667623835148\n",
      "114回目のtheta0: 0.05878167177457872, theta1: 0.8196710209853854, diff: 0.002491907154644757\n",
      "115回目のtheta0: 0.05737091165198883, theta1: 0.8203131405743509, diff: 0.0023737309497429138\n",
      "116回目のtheta0: 0.05599400977234109, theta1: 0.8209398492931813, diff: 0.0022611591331824776\n",
      "117回目のtheta0: 0.054650153537804905, theta1: 0.8215515170027597, diff: 0.0021539259224501173\n",
      "118回目のtheta0: 0.053338549852897585, theta1: 0.8221485046873083, diff: 0.00205177813950419\n",
      "119回目のtheta0: 0.05205842465642804, theta1: 0.8227311646674277, diff: 0.0019544746130160107\n",
      "120回目のtheta0: 0.05080902246467377, theta1: 0.8232998408080242, diff: 0.00186178560896888\n",
      "121回目のtheta0: 0.04958960592552159, theta1: 0.8238548687212464, diff: 0.0017734922882479687\n",
      "122回目のtheta0: 0.04839945538330907, theta1: 0.8243965759645512, diff: 0.0016893861899709428\n",
      "123回目のtheta0: 0.047237868454109655, theta1: 0.8249252822340167, diff: 0.0016092687392972316\n",
      "124回目のtheta0: 0.04610415961121102, theta1: 0.8254412995530152, diff: 0.0015329507786057128\n",
      "125回目のtheta0: 0.04499765978054195, theta1: 0.8259449324563576, diff: 0.001460252120880412\n",
      "126回目のtheta0: 0.04391771594580894, theta1: 0.8264364781700198, diff: 0.0013910011243005727\n",
      "127回目のtheta0: 0.04286369076310952, theta1: 0.8269162267865541, diff: 0.0013250342869803866\n",
      "128回目のtheta0: 0.04183496218479489, theta1: 0.8273844614362915, diff: 0.0012621958609555506\n",
      "129回目のtheta0: 0.04083092309235981, theta1: 0.8278414584544354, diff: 0.001202337484445426\n",
      "130回目のtheta0: 0.039850980938143175, theta1: 0.8282874875441437, diff: 0.0011453178315834478\n",
      "131回目のtheta0: 0.038894557395627735, theta1: 0.8287228119356991, diff: 0.0010910022787382623\n",
      "132回目のtheta0: 0.037961088018132666, theta1: 0.829147688541857, diff: 0.0010392625866710858\n",
      "133回目のtheta0: 0.03705002190569748, theta1: 0.8295623681094673, diff: 0.0009899765977605668\n",
      "134回目のtheta0: 0.03616082137996073, theta1: 0.8299670953674548, diff: 0.0009430279475886039\n",
      "135回目のtheta0: 0.03529296166684167, theta1: 0.8303621091712508, diff: 0.0008983057902027802\n",
      "136回目のtheta0: 0.03444593058683747, theta1: 0.8307476426437556, diff: 0.0008557045364070426\n",
      "137回目のtheta0: 0.03361922825275337, theta1: 0.8311239233129202, diff: 0.0008151236044731114\n",
      "138回目のtheta0: 0.03281236677468728, theta1: 0.8314911732460248, diff: 0.00077646718265445\n",
      "139回目のtheta0: 0.032024869972094784, theta1: 0.831849609180735, diff: 0.0007396440029845408\n",
      "140回目のtheta0: 0.031256273092764505, theta1: 0.8321994426530122, diff: 0.0007045671257870367\n",
      "141回目のtheta0: 0.030506122538538155, theta1: 0.8325408801219546, diff: 0.0006711537344128438\n",
      "142回目のtheta0: 0.029773975597613238, theta1: 0.8328741230916424, diff: 0.0006393249397134149\n",
      "143回目のtheta0: 0.029059400183270516, theta1: 0.8331993682300578, diff: 0.0006090055937715277\n",
      "144回目のtheta0: 0.02836197457887202, theta1: 0.8335168074851512, diff: 0.0005801241124920864\n",
      "145回目のtheta0: 0.027681287188979088, theta1: 0.8338266281981224, diff: 0.000552612306582656\n",
      "146回目のtheta0: 0.027016936296443587, theta1: 0.8341290132139823, diff: 0.000526405220553805\n",
      "147回目のtheta0: 0.026368529825328935, theta1: 0.8344241409894615, diff: 0.0005014409793755448\n",
      "148回目のtheta0: 0.02573568510952104, theta1: 0.8347121856983292, diff: 0.00047766064236931527\n",
      "149回目のtheta0: 0.02511802866689253, theta1: 0.834993317334184, diff: 0.00045500806406550964\n",
      "150回目のtheta0: 0.024515195978887107, theta1: 0.8352677018107784, diff: 0.0004334297616344074\n",
      "151回目のtheta0: 0.023926831275393814, theta1: 0.8355355010599345, diff: 0.0004128747886191775\n",
      "152回目のtheta0: 0.02335258732478436, theta1: 0.8357968731271108, diff: 0.0003932946146436578\n",
      "153回目のtheta0: 0.022792125228989532, theta1: 0.836051972264675, diff: 0.0003746430108395593\n",
      "154回目のtheta0: 0.02224511422349378, theta1: 0.8363009490229376, diff: 0.0003568759406933353\n",
      "155回目のtheta0: 0.021711231482129924, theta1: 0.8365439503390019, diff: 0.00033995145608090027\n",
      "156回目のtheta0: 0.0211901619265588, theta1: 0.8367811196234806, diff: 0.000323829598228631\n",
      "157回目のtheta0: 0.020681598040321388, theta1: 0.8370125968451319, diff: 0.0003084723033617287\n",
      "158回目のtheta0: 0.02018523968735367, theta1: 0.8372385186134634, diff: 0.0002938433128480966\n",
      "159回目のtheta0: 0.01970079393485718, theta1: 0.8374590182593551, diff: 0.00027990808757838437\n",
      "160回目のtheta0: 0.019227974880420603, theta1: 0.8376742259137454, diff: 0.00026663372643342953\n",
      "161回目のtheta0: 0.018766503483290505, theta1: 0.8378842685844303, diff: 0.0002539888885917385\n",
      "162回目のtheta0: 0.01831610739969153, theta1: 0.8380892702310188, diff: 0.0002419437195371188\n",
      "163回目のtheta0: 0.01787652082209893, theta1: 0.8382893518380891, diff: 0.00023046978058394174\n",
      "164回目のtheta0: 0.017447484322368555, theta1: 0.8384846314865897, diff: 0.00021953998170864963\n",
      "165回目のtheta0: 0.017028744698631706, theta1: 0.8386752244235264, diff: 0.00020912851761645257\n",
      "166回目のtheta0: 0.016620054825864542, theta1: 0.8388612431299766, diff: 0.00019921080679674574\n",
      "167回目のtheta0: 0.01622117351004379, theta1: 0.8390427973874719, diff: 0.00018976343349530467\n",
      "168回目のtheta0: 0.015831865345802738, theta1: 0.8392199943427874, diff: 0.00018076409242517855\n",
      "169回目のtheta0: 0.01545190057750347, theta1: 0.8393929385711753, diff: 0.0001721915361052595\n",
      "170回目のtheta0: 0.015081054963643382, theta1: 0.8395617321380818, diff: 0.00016402552469818588\n",
      "171回目のtheta0: 0.014719109644515938, theta1: 0.8397264746593827, diff: 0.00015624677821479693\n",
      "172回目のtheta0: 0.014365851013047553, theta1: 0.8398872633601723, diff: 0.00014883693100387063\n",
      "173回目のtheta0: 0.014021070588734409, theta1: 0.840044193132143, diff: 0.00014177848838903273\n",
      "174回目のtheta0: 0.013684564894604779, theta1: 0.8401973565895863, diff: 0.00013505478535558169\n",
      "175回目のtheta0: 0.013356135337134261, theta1: 0.840346844124051, diff: 0.0001286499472143987\n",
      "176回目のtheta0: 0.013035588089043036, theta1: 0.8404927439576886, diff: 0.00012254885211726574\n",
      "177回目のtheta0: 0.012722733974906, theta1: 0.8406351421953189, diff: 0.0001167370953552016\n",
      "178回目のtheta0: 0.012417388359508253, theta1: 0.840774122875246, diff: 0.00011120095534433716\n",
      "179回目のtheta0: 0.012119371038880052, theta1: 0.8409097680188549, diff: 0.00010592736123893332\n",
      "180回目のtheta0: 0.011828506133946927, theta1: 0.8410421576790171, diff: 0.00010090386205874324\n",
      "181回目のtheta0: 0.011544621986732197, theta1: 0.8411713699873355, diff: 9.611859730496164e-05\n"
     ]
    }
   ],
   "source": [
    "ETA = 0.001 #学習率\n",
    "diff = 1 #diffの初期値\n",
    "count=0 #更新回数\n",
    "\n",
    "## 損失関数の値\n",
    "error = E(standardized_x , standardized_y)\n",
    "\n",
    "## theta0,theta1の良い値が見つかるまで更新を繰り返す\n",
    "while abs(diff)>0.0001:\n",
    "    #theta0,theta1の更新式\n",
    "    new_theta0 = theta0 - ETA*np.sum((f(standardized_x)-standardized_y))\n",
    "    new_theta1 = theta1 - ETA*np.sum((f(standardized_x)-standardized_y) * standardized_x)\n",
    "\n",
    "    #パラメータを更新する\n",
    "    theta0 = new_theta0\n",
    "    theta1 = new_theta1\n",
    "\n",
    "    #新しい損失関数の値\n",
    "    current_error = E(standardized_x, standardized_y)\n",
    "    #（前回の更新時の損失関数の値）ー（今回の更新時の損失関数）\n",
    "    diff = error - current_error\n",
    "    #損失関数の更新\n",
    "    error = current_error\n",
    "\n",
    "    #回数の更新\n",
    "    count+=1\n",
    "\n",
    "    #出力\n",
    "    print(str(count) + \"回目のtheta0: \" + str(theta0) + \", theta1: \" + str(theta1) + \", diff: \" + str(diff))"
   ]
  },
  {
   "cell_type": "code",
   "execution_count": 7,
   "metadata": {},
   "outputs": [
    {
     "data": {
      "image/png": "[encoded data removed]",
      "text/plain": [
       "<Figure size 432x288 with 1 Axes>"
      ]
     },
     "metadata": {
      "needs_background": "light"
     },
     "output_type": "display_data"
    }
   ],
   "source": [
    "x = np.linspace(-2,2,100)\n",
    "\n",
    "plt.plot(standardized_x , standardized_y, 'o')\n",
    "plt.plot(x, f(x))\n",
    "plt.show()"
   ]
  },
  {
   "cell_type": "code",
   "execution_count": null,
   "metadata": {},
   "outputs": [],
   "source": []
  }
 ],
 "metadata": {
  "kernelspec": {
   "display_name": "Python 3",
   "language": "python",
   "name": "python3"
  },
  "language_info": {
   "codemirror_mode": {
    "name": "ipython",
    "version": 3
   },
   "file_extension": ".py",
   "mimetype": "text/x-python",
   "name": "python",
   "nbconvert_exporter": "python",
   "pygments_lexer": "ipython3",
   "version": "3.7.4"
  }
 },
 "nbformat": 4,
 "nbformat_minor": 4
}
