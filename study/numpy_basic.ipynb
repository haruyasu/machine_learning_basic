{
 "cells": [
  {
   "cell_type": "code",
   "execution_count": 12,
   "metadata": {
    "scrolled": true
   },
   "outputs": [],
   "source": [
    "import numpy as np"
   ]
  },
  {
   "cell_type": "code",
   "execution_count": 13,
   "metadata": {},
   "outputs": [],
   "source": [
    "my_list = [1, 2, 3]"
   ]
  },
  {
   "cell_type": "code",
   "execution_count": 14,
   "metadata": {},
   "outputs": [],
   "source": [
    "arr = np.array(my_list)"
   ]
  },
  {
   "cell_type": "code",
   "execution_count": 15,
   "metadata": {
    "scrolled": true
   },
   "outputs": [
    {
     "data": {
      "text/plain": [
       "array([0, 1, 2, 3, 4, 5, 6, 7, 8, 9])"
      ]
     },
     "execution_count": 15,
     "metadata": {},
     "output_type": "execute_result"
    }
   ],
   "source": [
    "np.arange(0, 10)"
   ]
  },
  {
   "cell_type": "code",
   "execution_count": 16,
   "metadata": {},
   "outputs": [
    {
     "data": {
      "text/plain": [
       "array([0, 2, 4, 6, 8])"
      ]
     },
     "execution_count": 16,
     "metadata": {},
     "output_type": "execute_result"
    }
   ],
   "source": [
    "np.arange(0, 10, 2)"
   ]
  },
  {
   "cell_type": "code",
   "execution_count": 18,
   "metadata": {},
   "outputs": [
    {
     "data": {
      "text/plain": [
       "array([[0., 0., 0., 0., 0.],\n",
       "       [0., 0., 0., 0., 0.],\n",
       "       [0., 0., 0., 0., 0.]])"
      ]
     },
     "execution_count": 18,
     "metadata": {},
     "output_type": "execute_result"
    }
   ],
   "source": [
    "np.zeros((3, 5))"
   ]
  },
  {
   "cell_type": "code",
   "execution_count": 19,
   "metadata": {},
   "outputs": [
    {
     "data": {
      "text/plain": [
       "array([[1., 1., 1., 1., 1.],\n",
       "       [1., 1., 1., 1., 1.],\n",
       "       [1., 1., 1., 1., 1.]])"
      ]
     },
     "execution_count": 19,
     "metadata": {},
     "output_type": "execute_result"
    }
   ],
   "source": [
    "np.ones((3, 5))"
   ]
  },
  {
   "cell_type": "code",
   "execution_count": 20,
   "metadata": {},
   "outputs": [
    {
     "data": {
      "text/plain": [
       "array([ 0.        ,  1.22222222,  2.44444444,  3.66666667,  4.88888889,\n",
       "        6.11111111,  7.33333333,  8.55555556,  9.77777778, 11.        ])"
      ]
     },
     "execution_count": 20,
     "metadata": {},
     "output_type": "execute_result"
    }
   ],
   "source": [
    "np.linspace(0, 11, 10)"
   ]
  },
  {
   "cell_type": "code",
   "execution_count": 24,
   "metadata": {},
   "outputs": [
    {
     "data": {
      "text/plain": [
       "array([[1, 1, 3],\n",
       "       [8, 0, 9],\n",
       "       [0, 5, 9]])"
      ]
     },
     "execution_count": 24,
     "metadata": {},
     "output_type": "execute_result"
    }
   ],
   "source": [
    "np.random.randint(0, 10, (3, 3))"
   ]
  },
  {
   "cell_type": "code",
   "execution_count": 30,
   "metadata": {},
   "outputs": [],
   "source": [
    "np.random.seed(1)\n",
    "arr = np.random.randint(0, 10, 10)"
   ]
  },
  {
   "cell_type": "code",
   "execution_count": 31,
   "metadata": {},
   "outputs": [
    {
     "data": {
      "text/plain": [
       "5.0"
      ]
     },
     "execution_count": 31,
     "metadata": {},
     "output_type": "execute_result"
    }
   ],
   "source": [
    "arr.mean()"
   ]
  },
  {
   "cell_type": "code",
   "execution_count": 32,
   "metadata": {},
   "outputs": [
    {
     "data": {
      "text/plain": [
       "9"
      ]
     },
     "execution_count": 32,
     "metadata": {},
     "output_type": "execute_result"
    }
   ],
   "source": [
    "arr.max()"
   ]
  },
  {
   "cell_type": "code",
   "execution_count": 33,
   "metadata": {},
   "outputs": [
    {
     "data": {
      "text/plain": [
       "0"
      ]
     },
     "execution_count": 33,
     "metadata": {},
     "output_type": "execute_result"
    }
   ],
   "source": [
    "arr.min()"
   ]
  },
  {
   "cell_type": "code",
   "execution_count": 34,
   "metadata": {},
   "outputs": [
    {
     "data": {
      "text/plain": [
       "2"
      ]
     },
     "execution_count": 34,
     "metadata": {},
     "output_type": "execute_result"
    }
   ],
   "source": [
    "arr.argmax()"
   ]
  },
  {
   "cell_type": "code",
   "execution_count": 35,
   "metadata": {},
   "outputs": [
    {
     "data": {
      "text/plain": [
       "array([[5, 8, 9, 5, 0],\n",
       "       [0, 1, 7, 6, 9]])"
      ]
     },
     "execution_count": 35,
     "metadata": {},
     "output_type": "execute_result"
    }
   ],
   "source": [
    "arr.reshape(2, 5)"
   ]
  },
  {
   "cell_type": "code",
   "execution_count": 36,
   "metadata": {},
   "outputs": [],
   "source": [
    "mat = np.arange(0, 100).reshape(10, 10)"
   ]
  },
  {
   "cell_type": "code",
   "execution_count": 37,
   "metadata": {},
   "outputs": [
    {
     "data": {
      "text/plain": [
       "array([ 0, 10, 20, 30, 40, 50, 60, 70, 80, 90])"
      ]
     },
     "execution_count": 37,
     "metadata": {},
     "output_type": "execute_result"
    }
   ],
   "source": [
    "mat[:, 0]"
   ]
  },
  {
   "cell_type": "code",
   "execution_count": 38,
   "metadata": {},
   "outputs": [
    {
     "data": {
      "text/plain": [
       "array([50, 51, 52, 53, 54, 55, 56, 57, 58, 59])"
      ]
     },
     "execution_count": 38,
     "metadata": {},
     "output_type": "execute_result"
    }
   ],
   "source": [
    "mat[5,:]"
   ]
  },
  {
   "cell_type": "code",
   "execution_count": 39,
   "metadata": {},
   "outputs": [
    {
     "data": {
      "text/plain": [
       "array([[ 0,  1,  2],\n",
       "       [10, 11, 12],\n",
       "       [20, 21, 22]])"
      ]
     },
     "execution_count": 39,
     "metadata": {},
     "output_type": "execute_result"
    }
   ],
   "source": [
    "mat[0:3, 0:3]"
   ]
  },
  {
   "cell_type": "code",
   "execution_count": 40,
   "metadata": {},
   "outputs": [],
   "source": [
    "my_filter = mat > 50"
   ]
  },
  {
   "cell_type": "code",
   "execution_count": 41,
   "metadata": {},
   "outputs": [
    {
     "data": {
      "text/plain": [
       "array([51, 52, 53, 54, 55, 56, 57, 58, 59, 60, 61, 62, 63, 64, 65, 66, 67,\n",
       "       68, 69, 70, 71, 72, 73, 74, 75, 76, 77, 78, 79, 80, 81, 82, 83, 84,\n",
       "       85, 86, 87, 88, 89, 90, 91, 92, 93, 94, 95, 96, 97, 98, 99])"
      ]
     },
     "execution_count": 41,
     "metadata": {},
     "output_type": "execute_result"
    }
   ],
   "source": [
    "mat[my_filter]"
   ]
  },
  {
   "cell_type": "markdown",
   "metadata": {},
   "source": [
    "# NumPy実践メソッド"
   ]
  },
  {
   "cell_type": "code",
   "execution_count": 1,
   "metadata": {},
   "outputs": [
    {
     "name": "stdout",
     "output_type": "stream",
     "text": [
      "[0.         1.         1.41421356 1.73205081 2.         2.23606798\n",
      " 2.44948974 2.64575131 2.82842712 3.        ]\n",
      "[1.00000000e+00 2.71828183e+00 7.38905610e+00 2.00855369e+01\n",
      " 5.45981500e+01 1.48413159e+02 4.03428793e+02 1.09663316e+03\n",
      " 2.98095799e+03 8.10308393e+03]\n",
      "[[0 1 2]\n",
      " [3 4 5]\n",
      " [6 7 8]]\n",
      "平均: 4.0\n",
      "最大値: 8\n",
      "合計: 36\n",
      "行の合計: [ 3 12 21]\n",
      "列の合計: [ 9 12 15]\n"
     ]
    }
   ],
   "source": [
    "import numpy as np\n",
    "sample_data = np.arange(10)\n",
    "print(np.sqrt(sample_data))\n",
    "print(np.exp(sample_data))\n",
    "# 平均や最大値等の計算ができます。axisで行か列の指定が可能です。\n",
    "# 統計関数\n",
    "sample_multi_array_data1 = np.arange(9).reshape(3,3)\n",
    "print(sample_multi_array_data1)\n",
    "print(\"平均:\",sample_multi_array_data1.mean())\n",
    "print(\"最大値:\",sample_multi_array_data1.max())\n",
    "print(\"合計:\",sample_multi_array_data1.sum())\n",
    "# 行列の指定\n",
    "print(\"行の合計:\",sample_multi_array_data1.sum(axis=1))\n",
    "print(\"列の合計:\",sample_multi_array_data1.sum(axis=0))"
   ]
  },
  {
   "cell_type": "code",
   "execution_count": 2,
   "metadata": {},
   "outputs": [
    {
     "data": {
      "text/plain": [
       "'\\n出力\\n\\narray([[ True]], dtype=bool)\\n'"
      ]
     },
     "execution_count": 2,
     "metadata": {},
     "output_type": "execute_result"
    }
   ],
   "source": [
    "import numpy as np\n",
    "a = np.random.randint(6, size=(2,3))\n",
    "\n",
    "\"\"\"\n",
    "array([[2, 0, 5],\n",
    "       [2, 2, 4]])\n",
    "\"\"\"\n",
    "\n",
    "np.any(a==6) # aの要素に、6が1つでもあるかどうか\n",
    "\"\"\"\n",
    "上記の場合、6が無いので、Falseが返ります。\n",
    "\"\"\"\n",
    "\n",
    "# keepdimsをTrueにすると次のような出力を得られます。\n",
    "d = np.any(a==2, keepdims=True)\n",
    "\n",
    "\"\"\"\n",
    "出力\n",
    "\n",
    "array([[ True]], dtype=bool)\n",
    "\"\"\""
   ]
  },
  {
   "cell_type": "code",
   "execution_count": 3,
   "metadata": {},
   "outputs": [
    {
     "name": "stdout",
     "output_type": "stream",
     "text": [
      "False\n",
      "True\n"
     ]
    }
   ],
   "source": [
    "import numpy as np\n",
    "a = np.array([0,1,1])\n",
    "b = np.array([1,1,1])\n",
    "\n",
    "print(np.all(a)) # False\n",
    "print(np.all(b)) # True\n",
    "\n",
    "c = np.array([\n",
    "    [0,0,1],\n",
    "    [1,1,2],\n",
    "    [0,1,2]\n",
    "])\n",
    "\n",
    "# axis=0で行方向\n",
    "d = np.all(c, axis=0) # array([False, False,  True], dtype=bool)\n",
    "\n",
    "# axis=1で列方向\n",
    "d2 = np.all(c, axis=1) # array([False,  True, False], dtype=bool)"
   ]
  },
  {
   "cell_type": "code",
   "execution_count": 4,
   "metadata": {},
   "outputs": [
    {
     "name": "stdout",
     "output_type": "stream",
     "text": [
      "[0.37108103 0.12015766 0.71734931 0.32184101 0.83806779 0.9760542\n",
      " 0.78981477 0.79542414 0.41795176 0.26138042 0.09337942 0.63359054\n",
      " 0.23003905 0.25799132 0.43853268 0.58834255 0.02761431 0.41525999\n",
      " 0.70930303 0.59684312 0.48754917 0.86814216 0.42788014 0.08475868\n",
      " 0.71427215 0.97708017 0.11152724 0.59722556 0.37831222 0.88259466\n",
      " 0.02540214 0.68900162 0.63601646 0.57873091 0.87342785 0.1318112\n",
      " 0.44241652 0.76451581 0.87455188 0.54615321 0.25117806 0.78988955\n",
      " 0.53133609 0.26299786 0.35945925 0.82926447 0.79906006 0.69416933\n",
      " 0.19625887 0.85976507 0.39612428 0.44473754 0.16615665 0.9781931\n",
      " 0.249303   0.72881326 0.928079   0.83128948 0.44443139 0.79875564\n",
      " 0.82697047 0.42071877 0.06730816 0.66741577 0.53001065 0.3904467\n",
      " 0.64327321 0.90693834 0.08504242 0.87940435 0.17289279 0.72879183\n",
      " 0.22512383 0.72857718 0.39173697 0.55789329 0.12589464 0.89309662\n",
      " 0.92065985 0.67607266 0.04544539 0.88097808 0.70690858 0.3925875\n",
      " 0.16168283 0.78415217 0.84861968 0.05242838 0.17339849 0.14088567\n",
      " 0.16528312 0.23898668 0.99406021 0.38193917 0.65857853 0.69759859\n",
      " 0.49505748 0.07624206 0.1910559  0.24083617]\n",
      "[[0.76648219 0.1498955  0.04052356 0.0573018  0.36473527 0.30874084\n",
      "  0.8164635  0.65636678 0.39339078 0.50963185]\n",
      " [0.04300765 0.51828503 0.42944664 0.65174803 0.37024353 0.54935665\n",
      "  0.84244901 0.84576148 0.15392803 0.89995557]\n",
      " [0.09072516 0.09383312 0.19790151 0.37977847 0.30350653 0.73829931\n",
      "  0.59663777 0.18347137 0.51352538 0.18975227]\n",
      " [0.19424326 0.37892001 0.1117144  0.18358208 0.71592432 0.87641718\n",
      "  0.45136882 0.98196942 0.6578254  0.86613958]\n",
      " [0.70506581 0.11841893 0.15652545 0.86190117 0.81686157 0.99413616\n",
      "  0.60816805 0.32667335 0.3125743  0.8381799 ]\n",
      " [0.55318114 0.90149668 0.34584185 0.72081436 0.50529783 0.09844723\n",
      "  0.27418835 0.37393103 0.62396286 0.06925894]\n",
      " [0.21467489 0.21870239 0.06515317 0.11258076 0.29857851 0.62636885\n",
      "  0.30426737 0.72067607 0.43462039 0.43409471]\n",
      " [0.6792107  0.12153928 0.46185758 0.0526493  0.66180606 0.2612329\n",
      "  0.51662859 0.55233407 0.58241763 0.00501348]\n",
      " [0.63335415 0.18927589 0.97934674 0.94142593 0.7967992  0.9332133\n",
      "  0.95725565 0.49611123 0.30928583 0.07598869]\n",
      " [0.62007862 0.09034155 0.35046298 0.5974884  0.45841187 0.49004049\n",
      "  0.75785936 0.86125448 0.18353015 0.99420929]]\n",
      "[39.54560763 56.17914355 30.53620107 69.32216067 36.11227237 42.18226729\n",
      " 63.76723463 38.92483241 61.16920241 56.28807786 60.66628661 43.3203612\n",
      " 40.62069451 41.59138377 42.14779074 49.78250031 35.01747368 32.36450871\n",
      " 37.47601701 33.60753855 59.41343555 56.53165725 51.81621292 55.5688171\n",
      " 33.93427492 68.26088921 39.61459361 61.39919437 31.42174014 51.81477528\n",
      " 61.25683698 65.83863788 60.92726923 49.01874019 68.6332012  34.3862187\n",
      " 63.87562847 47.36421495 60.98410082 40.11508011 63.53070119 44.2782478\n",
      " 39.46564841 43.45159211 64.85959257 62.90855029 55.9403463  38.96429217\n",
      " 56.69965883 65.1129566  50.66212173 38.89807943 69.19481523 68.55204419\n",
      " 54.00993353 59.33183036 57.73425496 36.92720402 64.57800735 62.7702989\n",
      " 59.84379815 40.64879317 50.07325066 32.94213724 61.88792895 68.79980046\n",
      " 49.12847708 41.8920939  63.69936749 35.68927381 53.45071613 47.60482549\n",
      " 45.22007752 53.2950123  59.17103721 66.16417195 57.61850286 49.0672004\n",
      " 55.0202566  49.01687766 44.17441672 33.40284035 59.2172644  50.19211086\n",
      " 62.96640961 43.32155094 59.01385697 65.66684957 61.59521526 56.85623051\n",
      " 66.63979787 56.68660265 46.26120628 52.05740687 67.67692474 53.00192473\n",
      " 69.40898822 46.29735042 68.92798879 38.10469019]\n"
     ]
    }
   ],
   "source": [
    "import numpy as np\n",
    "np.random.rand() # 0〜1の乱数を1個生成\n",
    "\n",
    "token = np.random.rand(100) # 0〜1の乱数を100個生成\n",
    "print(token)\n",
    "token2 = np.random.rand(10,10) # 0〜1の乱数で 10x10 の行列を生成\n",
    "print(token2)\n",
    "token3 = np.random.rand(100) * 40 + 30 # 30〜70の乱数を100個生成\n",
    "print(token3)"
   ]
  },
  {
   "cell_type": "code",
   "execution_count": 5,
   "metadata": {},
   "outputs": [
    {
     "data": {
      "text/plain": [
       "0.7098807045348083"
      ]
     },
     "execution_count": 5,
     "metadata": {},
     "output_type": "execute_result"
    }
   ],
   "source": [
    "import numpy as np\n",
    "\"\"\"\n",
    "標準正規分布。\n",
    "いわゆるガウシアン。\n",
    "標準正規分布ならば randn() で、\n",
    "平均・分散を指定したい場合は normal() を用います。\"\"\"\n",
    "np.random.randn() # 標準正規分布 (平均0, 標準偏差1)\n",
    "np.random.randn(10) # 標準正規分布を10個生成\n",
    "np.random.randn(10,10) # 標準正規分布による 10x10 の行列\n",
    "np.random.normal(50,10) # 平均50、標準偏差10の正規分布\n",
    "\n",
    "\"\"\" 二項分布\"\"\"\n",
    "np.random.binomial(n=100, p=0.5)\n",
    "\n",
    "\"\"\" ポアソン分布。\n",
    "稀にしか起きない現象を長時間観測したときに起きる回数の分布。\n",
    "λはその平均。\n",
    "\"\"\"\n",
    "np.random.poisson(lam=10)     # λ=10 のポアソン分布\n",
    "\n",
    "\"\"\" ベータ分布。二項分布の共役事前分布などに用いる。\"\"\"\n",
    "np.random.beta(a=3, b=5)      # a=3, b=5 のベータ分布"
   ]
  },
  {
   "cell_type": "code",
   "execution_count": 7,
   "metadata": {},
   "outputs": [
    {
     "name": "stderr",
     "output_type": "stream",
     "text": [
      "C:\\Users\\haruk\\Anaconda3\\envs\\ai-gpu\\Lib\\site-packages\\ipykernel_launcher.py:7: DeprecationWarning: This function is deprecated. Please call randint(1, 100 + 1) instead\n",
      "  import sys\n",
      "C:\\Users\\haruk\\Anaconda3\\envs\\ai-gpu\\Lib\\site-packages\\ipykernel_launcher.py:8: DeprecationWarning: This function is deprecated. Please call randint(30, 70 + 1) instead\n",
      "  \n"
     ]
    },
    {
     "data": {
      "text/plain": [
       "0.5488135039273248"
      ]
     },
     "execution_count": 7,
     "metadata": {},
     "output_type": "execute_result"
    }
   ],
   "source": [
    "import numpy as np\n",
    "np.random.randint(100) #  0〜99 の整数を1個生成\n",
    "np.random.randint(30,70) # 30〜69 の整数を1個生成\n",
    "np.random.randint(0,100,20) #  0〜99 の整数を20個生成\n",
    "np.random.randint(0,100,(5,5)) #  0〜99 の整数で5x5の行列を生成\n",
    "\n",
    "np.random.random_integers(100) # 1〜100 の整数を1個生成\n",
    "np.random.random_integers(30,70) # 30〜70 の整数を1個生成\n",
    "\n",
    "\"\"\"\n",
    "Numpyで生成される乱数は擬似乱数であるため、\n",
    "固定したseedを指定してやれば毎回同じ乱数が出ます。\n",
    "デバッグ時など毎回同じ乱数を出して欲しいときに使います。\n",
    "\"\"\"\n",
    "\n",
    "np.random.seed(0) # 数値はなんでもOK\n",
    "np.random.rand() # 毎回同じ値を返します。"
   ]
  },
  {
   "cell_type": "code",
   "execution_count": 8,
   "metadata": {},
   "outputs": [],
   "source": [
    "import numpy as  np\n",
    "x = np.arange(10)\n",
    "array_copy = np.copy(x)"
   ]
  },
  {
   "cell_type": "code",
   "execution_count": 9,
   "metadata": {},
   "outputs": [],
   "source": [
    "import numpy as  np\n",
    "zero_array = np.zeros(10) #[0,0,0,0,0,0,0,0,0,0]"
   ]
  },
  {
   "cell_type": "code",
   "execution_count": 10,
   "metadata": {},
   "outputs": [
    {
     "name": "stdout",
     "output_type": "stream",
     "text": [
      "[  0.          11.11111111  22.22222222  33.33333333  44.44444444\n",
      "  55.55555556  66.66666667  77.77777778  88.88888889 100.        ]\n",
      "[ 0. 10. 20. 30. 40. 50. 60. 70. 80. 90.]\n"
     ]
    },
    {
     "data": {
      "text/plain": [
       "'\\n[  0.  10.  20.  30.  40.  50.  60.  70.  80.  90.]\\n'"
      ]
     },
     "execution_count": 10,
     "metadata": {},
     "output_type": "execute_result"
    }
   ],
   "source": [
    "import numpy as np\n",
    "\n",
    "data = np.linspace(0, 100, 10)\n",
    "print(data)\n",
    "\n",
    "\"\"\"\n",
    "[   0.           11.11111111   22.22222222   33.33333333   44.44444444\n",
    "   55.55555556   66.66666667   77.77777778   88.88888889  100.        ]\n",
    "\"\"\"\n",
    "# endpointにFalseの時\n",
    "data2 = np.linspace(0, 100, 10, endpoint=False)\n",
    "print(data2)\n",
    "\n",
    "\"\"\"\n",
    "[  0.  10.  20.  30.  40.  50.  60.  70.  80.  90.]\n",
    "\"\"\""
   ]
  },
  {
   "cell_type": "code",
   "execution_count": 11,
   "metadata": {},
   "outputs": [
    {
     "name": "stdout",
     "output_type": "stream",
     "text": [
      "[[ 1  2  3]\n",
      " [ 4  5  6]\n",
      " [ 7  8  9]\n",
      " [11 12 13]\n",
      " [14 15 16]\n",
      " [17 18 19]]\n",
      "[[ 1  2  3 11 12 13]\n",
      " [ 4  5  6 14 15 16]\n",
      " [ 7  8  9 17 18 19]]\n"
     ]
    },
    {
     "data": {
      "text/plain": [
       "'\\n[[ 1  2  3 11 12 13]\\n [ 4  5  6 14 15 16]\\n [ 7  8  9 17 18 19]]\\n'"
      ]
     },
     "execution_count": 11,
     "metadata": {},
     "output_type": "execute_result"
    }
   ],
   "source": [
    "import numpy as np\n",
    "data1 = np.array([[1, 2, 3], [4, 5, 6], [7, 8, 9]])\n",
    "data2 = np.array([[11, 12, 13], [14, 15, 16], [17, 18, 19]])\n",
    "\n",
    "# vstackは配列を縦に連結\n",
    "print(np.vstack((data1, data2)))\n",
    "\n",
    "\"\"\"\n",
    "[[ 1  2  3]\n",
    " [ 4  5  6]\n",
    " [ 7  8  9]\n",
    " [11 12 13]\n",
    " [14 15 16]\n",
    " [17 18 19]]\n",
    "\"\"\"\n",
    "\n",
    "# hstackは配列を横に連結\n",
    "print(np.hstack((data1, data2)))\n",
    "\n",
    "\"\"\"\n",
    "[[ 1  2  3 11 12 13]\n",
    " [ 4  5  6 14 15 16]\n",
    " [ 7  8  9 17 18 19]]\n",
    "\"\"\""
   ]
  },
  {
   "cell_type": "code",
   "execution_count": 12,
   "metadata": {},
   "outputs": [
    {
     "name": "stdout",
     "output_type": "stream",
     "text": [
      "[[ 0.74159174  1.55291372 -2.2683282   1.33354538 -0.84272405]\n",
      " [ 1.96992445  1.26611853 -0.50587654  2.54520078  1.08081191]\n",
      " [ 0.48431215  0.57914048 -0.18158257  1.41020463 -0.37447169]\n",
      " [ 0.27519832 -0.96075461  0.37692697  0.03343893  0.68056724]\n",
      " [-1.56349669 -0.56669762 -0.24214951  1.51439128 -0.3330574 ]]\n",
      "[[ 0.74159174  1.55291372 -2.2683282   1.33354538 -0.84272405]\n",
      " [-1.56349669 -0.56669762 -0.24214951  1.51439128 -0.3330574 ]]\n",
      "[ True False False False  True]\n"
     ]
    }
   ],
   "source": [
    "import numpy as np\n",
    "names = np.array(['a','b','c','d','a'])\n",
    "data = np.random.randn(5,5)\n",
    "\n",
    "t = names == \"a\" #[True,False,False,False,True]\n",
    "\n",
    "print(data)\n",
    "print(data[t]) # 0番目と4番目の値が出力される\n",
    "print(t) # [ True False False False  True]"
   ]
  },
  {
   "cell_type": "code",
   "execution_count": null,
   "metadata": {},
   "outputs": [],
   "source": []
  }
 ],
 "metadata": {
  "kernelspec": {
   "display_name": "Python 3",
   "language": "python",
   "name": "python3"
  },
  "language_info": {
   "codemirror_mode": {
    "name": "ipython",
    "version": 3
   },
   "file_extension": ".py",
   "mimetype": "text/x-python",
   "name": "python",
   "nbconvert_exporter": "python",
   "pygments_lexer": "ipython3",
   "version": "3.7.4"
  }
 },
 "nbformat": 4,
 "nbformat_minor": 4
}
