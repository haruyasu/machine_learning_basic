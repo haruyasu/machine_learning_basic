{
 "cells": [
  {
   "cell_type": "code",
   "execution_count": 4,
   "metadata": {},
   "outputs": [
    {
     "name": "stderr",
     "output_type": "stream",
     "text": [
      "C:\\Users\\haruk\\Anaconda3\\envs\\ai-gpu\\lib\\site-packages\\sklearn\\utils\\validation.py:724: DataConversionWarning: A column-vector y was passed when a 1d array was expected. Please change the shape of y to (n_samples, ), for example using ravel().\n",
      "  y = column_or_1d(y, warn=True)\n",
      "C:\\Users\\haruk\\Anaconda3\\envs\\ai-gpu\\lib\\site-packages\\sklearn\\svm\\base.py:193: FutureWarning: The default value of gamma will change from 'auto' to 'scale' in version 0.22 to account better for unscaled features. Set gamma explicitly to 'auto' or 'scale' to avoid this warning.\n",
      "  \"avoid this warning.\", FutureWarning)\n"
     ]
    }
   ],
   "source": [
    "import numpy as np\n",
    "import pandas as pd\n",
    "from sklearn import svm\n",
    "from sklearn.ensemble import RandomForestClassifier\n",
    "import csv as csv\n",
    "\n",
    "#前処理を定義\n",
    "def preprocess(data):\n",
    "    #欠損値の補完\n",
    "    #年齢の欠損値を中央値で補完\n",
    "    data.Age = data.Age.fillna(data.Age.median())\n",
    "    #料金の欠損値を中央値で補完\n",
    "    data.Fare = data.Fare.fillna(data.Fare.median())\n",
    "    #料金の欠損値をSで補完\n",
    "    data.Embarked = data.Embarked.fillna(\"S\")\n",
    "    \n",
    "    #カテゴリ変数をダミー変数に置換\n",
    "    #男→1、女→0に変換\n",
    "    data[\"Sex\"] = data[\"Sex\"].map( {'female': 0, \"male\": 1} ).astype(int)\n",
    "    #EmbarkedとPclassをダミー変数に変換\n",
    "    Embark_dum  = pd.get_dummies(data['Embarked'])\n",
    "    Pclass_dum  = pd.get_dummies(data['Pclass'])\n",
    "    Pclass_dum.columns = ['Class1','Class2','Class3']\n",
    "    data = data.join(Embark_dum)\n",
    "    data = data.join(Pclass_dum)\n",
    "    \n",
    "    ##################################\n",
    "    # STEP2\n",
    "    # Fareを正規化した変数NorFareと、Ageを正規化したNorAgeを作ろう\n",
    "    # できたら、特徴ベクトルに追加しよう\n",
    "    #\n",
    "    # data['NorFare'] =\n",
    "    # data['NorAge'] =\n",
    "    #################################\n",
    "    \n",
    "    #特徴ベクトルとして用いる列を指定\n",
    "    features = data[['Sex','Age','SibSp','Parch','Fare','C','Q','S','Class1','Class2','Class3']]\n",
    "    return features\n",
    "\n",
    "def main():\n",
    "    #データの読み込み\n",
    "    train = pd.read_csv(\"train.csv\", dtype={\"Age\": np.float64}, )\n",
    "    test = pd.read_csv(\"test.csv\", dtype={\"Age\": np.float64}, )\n",
    "    \n",
    "    #トレーニングデータの前処理\n",
    "    features_train = preprocess(train)\n",
    "    #ラベル抽出\n",
    "    label = label = train[['Survived']]\n",
    "    #テストデータの前処理\n",
    "    feature_test = preprocess(test)\n",
    "    \n",
    "    #SVMによる分類\n",
    "    ##########################\n",
    "    # STEP1\n",
    "    # scitkit-learnのドキュメントを読んで、SVMで学習と予測を行なうコードを書いてみよう！\n",
    "    # 結果は、predictionという変数に格納しよう！\n",
    "    # http://scikit-learn.org/stable/modules/svm.html#svm\n",
    "    ##########################\n",
    "    \n",
    "    clf = svm.SVC()\n",
    "    clf.fit(features_train,label)\n",
    "    prediction = clf.predict(feature_test)\n",
    "    \n",
    "    #ランダムフォレストによる分類\n",
    "    # random_forest = RandomForestClassifier(n_estimators=100)\n",
    "    #random_forest.fit(features_train, label)\n",
    "   # prediction = random_forest.predict(feature_test)\n",
    "    \n",
    "    #コメントアウトを解除して結果をcsvに出力\n",
    "    #submission = pd.DataFrame({\n",
    "    #   \"PassengerId\": test[\"PassengerId\"],\n",
    "    #    \"Survived\": prediction\n",
    "    #})\n",
    "    #submission.to_csv('result.csv', index=False)\n",
    "\n",
    "main()"
   ]
  },
  {
   "cell_type": "code",
   "execution_count": null,
   "metadata": {},
   "outputs": [],
   "source": []
  }
 ],
 "metadata": {
  "kernelspec": {
   "display_name": "Python 3",
   "language": "python",
   "name": "python3"
  },
  "language_info": {
   "codemirror_mode": {
    "name": "ipython",
    "version": 3
   },
   "file_extension": ".py",
   "mimetype": "text/x-python",
   "name": "python",
   "nbconvert_exporter": "python",
   "pygments_lexer": "ipython3",
   "version": "3.7.4"
  }
 },
 "nbformat": 4,
 "nbformat_minor": 2
}
